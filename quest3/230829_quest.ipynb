{
 "cells": [
  {
   "cell_type": "markdown",
   "id": "2c9a82db",
   "metadata": {},
   "source": [
    "<h1>8-1. 프로젝트 1<br> 손수 설계하는 선형회귀, 당뇨병 수치를 맞춰보자!</h1>"
   ]
  },
  {
   "cell_type": "markdown",
   "id": "6f33acda",
   "metadata": {},
   "source": [
    "<h4>(1) 데이터 가져오기</h4><Br>\n",
    "- sklearn.datasets의 load_diabetes에서 데이터를 가져와주세요.<br>\n",
    "- diabetes의 data를 df_X에, target을 df_y에 저장해주세요."
   ]
  },
  {
   "cell_type": "code",
   "execution_count": 54,
   "id": "779bf5ed",
   "metadata": {},
   "outputs": [],
   "source": [
    "import pandas as pd\n",
    "import numpy as np\n",
    "import pandas as pd\n",
    "import numpy as np"
   ]
  },
  {
   "cell_type": "code",
   "execution_count": 55,
   "id": "00a73e06",
   "metadata": {},
   "outputs": [],
   "source": [
    "from sklearn.datasets import load_diabetes\n",
    "diabetes=load_diabetes()"
   ]
  },
  {
   "cell_type": "markdown",
   "id": "dda76b42",
   "metadata": {},
   "source": [
    "<h4>(2,3) 모델에 입력할 데이터 X,y 준비하기</h4> <br>\n",
    "- df_X에 있는 값들을 numpy array로 변환해서 저장해주세요.<br>\n",
    "- df_y에 있는 값들을 numpy array로 변환해서 저장해주세요.<br>\n",
    "\n",
    "shape도 뽑아보고 길이도 확인해 볼 것"
   ]
  },
  {
   "cell_type": "code",
   "execution_count": 38,
   "id": "b95586fa",
   "metadata": {},
   "outputs": [],
   "source": [
    "df_X=diabetes.data\n",
    "df_y=diabetes.target\n",
    "\n",
    "# print(df_X.shape)\n",
    "# print(df_y.shape)\n",
    "\n",
    "# print(df_X)\n",
    "# print(df_y)\n",
    "\n",
    "# print(len(df_X))\n",
    "# print(len(df_y))"
   ]
  },
  {
   "cell_type": "markdown",
   "id": "196ce349",
   "metadata": {},
   "source": [
    "- feature 확인해보기"
   ]
  },
  {
   "cell_type": "code",
   "execution_count": 56,
   "id": "289d30d2",
   "metadata": {},
   "outputs": [
    {
     "name": "stdout",
     "output_type": "stream",
     "text": [
      "feature 1 : age\n",
      "feature 2 : sex\n",
      "feature 3 : bmi\n",
      "feature 4 : bp\n",
      "feature 5 : s1\n",
      "feature 6 : s2\n",
      "feature 7 : s3\n",
      "feature 8 : s4\n",
      "feature 9 : s5\n",
      "feature 10 : s6\n"
     ]
    }
   ],
   "source": [
    "for i,feature_name in enumerate(diabetes.feature_names):\n",
    "  print(f'feature {i+1} : {feature_name}')"
   ]
  },
  {
   "cell_type": "markdown",
   "id": "1818b84b",
   "metadata": {},
   "source": [
    "<h4>(4) train 데이터와 test 데이터로 분리하기</h4>"
   ]
  },
  {
   "cell_type": "code",
   "execution_count": 57,
   "id": "f59f7c10",
   "metadata": {},
   "outputs": [],
   "source": [
    "from sklearn.metrics import mean_squared_error\n",
    "from sklearn.linear_model import LinearRegression\n",
    "from sklearn.model_selection import KFold, cross_val_score, train_test_split\n",
    "\n",
    "# train_test_split 을 사용하여 데이터 분리하기\n",
    "X_train, X_test, y_train, y_test = train_test_split(df_X, df_y, test_size=0.2, random_state=42)"
   ]
  },
  {
   "cell_type": "markdown",
   "id": "d8031758",
   "metadata": {},
   "source": [
    "#### - 가중치 W와 b 준비하기"
   ]
  },
  {
   "cell_type": "code",
   "execution_count": 59,
   "id": "b8b46042",
   "metadata": {},
   "outputs": [
    {
     "name": "stdout",
     "output_type": "stream",
     "text": [
      "=3\n"
     ]
    }
   ],
   "source": [
    "import numpy as np\n",
    "np.random.seed(31)      # 계속 테스트 결과가 변하여서 난수값을 고정했습니다 \n",
    "\n",
    "W = np.random.rand(10)\n",
    "b = np.random.rand()\n",
    "print(\"=3\")"
   ]
  },
  {
   "cell_type": "code",
   "execution_count": 60,
   "id": "9668651e",
   "metadata": {},
   "outputs": [
    {
     "data": {
      "text/plain": [
       "array([0.28605382, 0.95810557, 0.77031293, 0.98687   , 0.20816546,\n",
       "       0.13691705, 0.9083738 , 0.06863852, 0.07533272, 0.54353469])"
      ]
     },
     "execution_count": 60,
     "metadata": {},
     "output_type": "execute_result"
    }
   ],
   "source": [
    "# W 확인해보기 \n",
    "W"
   ]
  },
  {
   "cell_type": "code",
   "execution_count": 61,
   "id": "708dab2c",
   "metadata": {},
   "outputs": [
    {
     "data": {
      "text/plain": [
       "0.089399716518068"
      ]
     },
     "execution_count": 61,
     "metadata": {},
     "output_type": "execute_result"
    }
   ],
   "source": [
    "# b 확인해보기\n",
    "b"
   ]
  },
  {
   "cell_type": "markdown",
   "id": "150fd857",
   "metadata": {},
   "source": [
    "<h4>(5) 모델 준비하기 </h4> \n",
    "<h4>(6) 손실함수 loss 정의하기</h4>"
   ]
  },
  {
   "cell_type": "code",
   "execution_count": 43,
   "id": "6659ac07",
   "metadata": {},
   "outputs": [
    {
     "name": "stdout",
     "output_type": "stream",
     "text": [
      "=3\n"
     ]
    }
   ],
   "source": [
    "def model(X, W, b):\n",
    "    predictions = 0\n",
    "    for i in range(10):\n",
    "        predictions += X[:, i] * W[i]\n",
    "    predictions += b\n",
    "    return predictions\n",
    "print(\"=3\")"
   ]
  },
  {
   "cell_type": "code",
   "execution_count": 44,
   "id": "66813ef2",
   "metadata": {},
   "outputs": [
    {
     "name": "stdout",
     "output_type": "stream",
     "text": [
      "=3\n",
      "=3\n"
     ]
    }
   ],
   "source": [
    "def MSE(a, b):\n",
    "    mse = ((a - b) ** 2).mean()  # 두 값의 차이의 제곱의 평균\n",
    "    return mse\n",
    "print(\"=3\")\n",
    "\n",
    "def loss(X, W, b, y):\n",
    "    predictions = model(X, W, b)\n",
    "    L = MSE(predictions, y)\n",
    "    return L\n",
    "print(\"=3\")"
   ]
  },
  {
   "cell_type": "markdown",
   "id": "4ec91128",
   "metadata": {},
   "source": [
    "<h4>(7) 기울기를 구하는 gradient 함수 구현하기</h4>"
   ]
  },
  {
   "cell_type": "code",
   "execution_count": 45,
   "id": "4dd04eae",
   "metadata": {},
   "outputs": [
    {
     "name": "stdout",
     "output_type": "stream",
     "text": [
      "=3\n"
     ]
    }
   ],
   "source": [
    "def gradient(X, W, b, y):\n",
    "    # N은 데이터 포인트의 개수\n",
    "    N = len(y)\n",
    "    \n",
    "    # y_pred 준비\n",
    "    y_pred = model(X, W, b)\n",
    "    \n",
    "    # 공식에 맞게 gradient 계산\n",
    "    dW = 1/N * 2 * X.T.dot(y_pred - y)\n",
    "        \n",
    "    # b의 gradient 계산\n",
    "    db = 2 * (y_pred - y).mean()\n",
    "    return dW, db\n",
    "print(\"=3\")"
   ]
  },
  {
   "cell_type": "markdown",
   "id": "9e3024ba",
   "metadata": {},
   "source": [
    "<h4>(8) 하이퍼 파라미터인 학습률 설정하기</h4>"
   ]
  },
  {
   "cell_type": "code",
   "execution_count": 49,
   "id": "06fc599a",
   "metadata": {},
   "outputs": [
    {
     "name": "stdout",
     "output_type": "stream",
     "text": [
      "Iteration 3000 : Loss 2898.7540\n"
     ]
    }
   ],
   "source": [
    "LEARNING_RATE = 0.1\n",
    "\n",
    "losses = []\n",
    "\n",
    "# python for문으로 훈련 진행\n",
    "for i in range(1, 3001):\n",
    "    dW, db = gradient(X_train, W, b, y_train)\n",
    "    W -= LEARNING_RATE * dW\n",
    "    b -= LEARNING_RATE * db\n",
    "    L = loss(X_train, W, b, y_train)\n",
    "    losses.append(L)\n",
    "#     if i % 100 == 0:\n",
    "print('Iteration %d : Loss %0.4f' % (i, L))"
   ]
  },
  {
   "cell_type": "markdown",
   "id": "27389ae3",
   "metadata": {},
   "source": [
    "#### (9,10) 모델 학습 후 Test 데이터에 대한 성능을 확인해주세요"
   ]
  },
  {
   "cell_type": "code",
   "execution_count": 51,
   "id": "8508b404",
   "metadata": {},
   "outputs": [
    {
     "data": {
      "text/plain": [
       "2878.654502549036"
      ]
     },
     "execution_count": 51,
     "metadata": {},
     "output_type": "execute_result"
    }
   ],
   "source": [
    "prediction = model(X_test, W, b)\n",
    "mse = loss(X_test, W, b, y_test)\n",
    "mse"
   ]
  },
  {
   "cell_type": "markdown",
   "id": "352ea5bf",
   "metadata": {},
   "source": [
    "<h4>(11) x축에는 X 데이터의 첫 번째 컬럼을, <br>\n",
    "y축에는 정답인 target 데이터를 넣어서 모델이 예측한 데이터를 시각화해 주세요.</h4>"
   ]
  },
  {
   "cell_type": "code",
   "execution_count": 53,
   "id": "716e04d0",
   "metadata": {},
   "outputs": [
    {
     "data": {
      "image/png": "[encoded data removed]",
      "text/plain": [
       "<Figure size 432x288 with 1 Axes>"
      ]
     },
     "metadata": {
      "needs_background": "light"
     },
     "output_type": "display_data"
    }
   ],
   "source": [
    "import matplotlib.pyplot as plt\n",
    "plt.scatter(X_test[:, 0], y_test, color=\"yellow\")\n",
    "plt.scatter(X_test[:, 0], prediction)\n",
    "plt.show()"
   ]
  },
  {
   "cell_type": "markdown",
   "id": "494cf8c4",
   "metadata": {},
   "source": [
    "<h1>8-2. 프로젝트 2 <Br> 날씨 좋은 월요일 오후 세 시, 자전거 타는 사람은 몇 명?</h1>"
   ]
  },
  {
   "cell_type": "code",
   "execution_count": null,
   "id": "2c7e4db2",
   "metadata": {},
   "outputs": [],
   "source": [
    "# X_columns = ['season',\n",
    "# 'holiday',\n",
    "# 'temp',\n",
    "# 'atemp',\n",
    "# 'year',\n",
    "# 'month',\n",
    "# 'day',\n",
    "# 'hour',\n",
    "# 'minute',\n",
    "# 'second']"
   ]
  },
  {
   "cell_type": "markdown",
   "id": "119cc467",
   "metadata": {},
   "source": [
    "### (1) 데이터 가져오기"
   ]
  },
  {
   "cell_type": "code",
   "execution_count": 17,
   "id": "b1701245",
   "metadata": {},
   "outputs": [
    {
     "name": "stdout",
     "output_type": "stream",
     "text": [
      "<class 'pandas.core.frame.DataFrame'>\n",
      "RangeIndex: 10886 entries, 0 to 10885\n",
      "Data columns (total 12 columns):\n",
      " #   Column      Non-Null Count  Dtype  \n",
      "---  ------      --------------  -----  \n",
      " 0   datetime    10886 non-null  object \n",
      " 1   season      10886 non-null  int64  \n",
      " 2   holiday     10886 non-null  int64  \n",
      " 3   workingday  10886 non-null  int64  \n",
      " 4   weather     10886 non-null  int64  \n",
      " 5   temp        10886 non-null  float64\n",
      " 6   atemp       10886 non-null  float64\n",
      " 7   humidity    10886 non-null  int64  \n",
      " 8   windspeed   10886 non-null  float64\n",
      " 9   casual      10886 non-null  int64  \n",
      " 10  registered  10886 non-null  int64  \n",
      " 11  count       10886 non-null  int64  \n",
      "dtypes: float64(3), int64(8), object(1)\n",
      "memory usage: 1020.7+ KB\n"
     ]
    }
   ],
   "source": [
    "train = pd.read_csv('~/data/data/bike-sharing-demand/train.csv')\n",
    "# train.head()\n",
    "train.info()"
   ]
  },
  {
   "cell_type": "markdown",
   "id": "db5c05f1",
   "metadata": {},
   "source": [
    "### (2) datetime 컬럼을 datetime 자료형으로 변환하고 <br> 연, 월, 일, 시, 분, 초까지 6가지 컬럼 생성하기"
   ]
  },
  {
   "cell_type": "code",
   "execution_count": 63,
   "id": "2773e16f",
   "metadata": {},
   "outputs": [
    {
     "name": "stdout",
     "output_type": "stream",
     "text": [
      "<class 'pandas.core.frame.DataFrame'>\n",
      "RangeIndex: 10886 entries, 0 to 10885\n",
      "Data columns (total 12 columns):\n",
      " #   Column      Non-Null Count  Dtype         \n",
      "---  ------      --------------  -----         \n",
      " 0   datetime    10886 non-null  datetime64[ns]\n",
      " 1   season      10886 non-null  int64         \n",
      " 2   holiday     10886 non-null  int64         \n",
      " 3   workingday  10886 non-null  int64         \n",
      " 4   weather     10886 non-null  int64         \n",
      " 5   temp        10886 non-null  float64       \n",
      " 6   atemp       10886 non-null  float64       \n",
      " 7   humidity    10886 non-null  int64         \n",
      " 8   windspeed   10886 non-null  float64       \n",
      " 9   casual      10886 non-null  int64         \n",
      " 10  registered  10886 non-null  int64         \n",
      " 11  count       10886 non-null  int64         \n",
      "dtypes: datetime64[ns](1), float64(3), int64(8)\n",
      "memory usage: 1020.7 KB\n"
     ]
    }
   ],
   "source": [
    "train['datetime'] = pd.to_datetime(train['datetime'])\n",
    "train.info()"
   ]
  },
  {
   "cell_type": "code",
   "execution_count": 64,
   "id": "72081437",
   "metadata": {},
   "outputs": [
    {
     "data": {
      "text/plain": [
       "0       2011-01-01 00:00:00\n",
       "1       2011-01-01 01:00:00\n",
       "2       2011-01-01 02:00:00\n",
       "3       2011-01-01 03:00:00\n",
       "4       2011-01-01 04:00:00\n",
       "                ...        \n",
       "10881   2012-12-19 19:00:00\n",
       "10882   2012-12-19 20:00:00\n",
       "10883   2012-12-19 21:00:00\n",
       "10884   2012-12-19 22:00:00\n",
       "10885   2012-12-19 23:00:00\n",
       "Name: datetime, Length: 10886, dtype: datetime64[ns]"
      ]
     },
     "execution_count": 64,
     "metadata": {},
     "output_type": "execute_result"
    }
   ],
   "source": [
    "train['datetime']"
   ]
  },
  {
   "cell_type": "code",
   "execution_count": 69,
   "id": "01de3e83",
   "metadata": {},
   "outputs": [
    {
     "data": {
      "text/html": [
       "<div>\n",
       "<style scoped>\n",
       "    .dataframe tbody tr th:only-of-type {\n",
       "        vertical-align: middle;\n",
       "    }\n",
       "\n",
       "    .dataframe tbody tr th {\n",
       "        vertical-align: top;\n",
       "    }\n",
       "\n",
       "    .dataframe thead th {\n",
       "        text-align: right;\n",
       "    }\n",
       "</style>\n",
       "<table border=\"1\" class=\"dataframe\">\n",
       "  <thead>\n",
       "    <tr style=\"text-align: right;\">\n",
       "      <th></th>\n",
       "      <th>datetime</th>\n",
       "      <th>season</th>\n",
       "      <th>holiday</th>\n",
       "      <th>workingday</th>\n",
       "      <th>weather</th>\n",
       "      <th>temp</th>\n",
       "      <th>atemp</th>\n",
       "      <th>humidity</th>\n",
       "      <th>windspeed</th>\n",
       "      <th>casual</th>\n",
       "      <th>registered</th>\n",
       "      <th>count</th>\n",
       "      <th>year</th>\n",
       "      <th>month</th>\n",
       "      <th>day</th>\n",
       "      <th>hour</th>\n",
       "      <th>minute</th>\n",
       "      <th>second</th>\n",
       "    </tr>\n",
       "  </thead>\n",
       "  <tbody>\n",
       "    <tr>\n",
       "      <th>0</th>\n",
       "      <td>2011-01-01 00:00:00</td>\n",
       "      <td>1</td>\n",
       "      <td>0</td>\n",
       "      <td>0</td>\n",
       "      <td>1</td>\n",
       "      <td>9.84</td>\n",
       "      <td>14.395</td>\n",
       "      <td>81</td>\n",
       "      <td>0.0</td>\n",
       "      <td>3</td>\n",
       "      <td>13</td>\n",
       "      <td>16</td>\n",
       "      <td>2011</td>\n",
       "      <td>1</td>\n",
       "      <td>1</td>\n",
       "      <td>0</td>\n",
       "      <td>0</td>\n",
       "      <td>0</td>\n",
       "    </tr>\n",
       "    <tr>\n",
       "      <th>1</th>\n",
       "      <td>2011-01-01 01:00:00</td>\n",
       "      <td>1</td>\n",
       "      <td>0</td>\n",
       "      <td>0</td>\n",
       "      <td>1</td>\n",
       "      <td>9.02</td>\n",
       "      <td>13.635</td>\n",
       "      <td>80</td>\n",
       "      <td>0.0</td>\n",
       "      <td>8</td>\n",
       "      <td>32</td>\n",
       "      <td>40</td>\n",
       "      <td>2011</td>\n",
       "      <td>1</td>\n",
       "      <td>1</td>\n",
       "      <td>1</td>\n",
       "      <td>0</td>\n",
       "      <td>0</td>\n",
       "    </tr>\n",
       "    <tr>\n",
       "      <th>2</th>\n",
       "      <td>2011-01-01 02:00:00</td>\n",
       "      <td>1</td>\n",
       "      <td>0</td>\n",
       "      <td>0</td>\n",
       "      <td>1</td>\n",
       "      <td>9.02</td>\n",
       "      <td>13.635</td>\n",
       "      <td>80</td>\n",
       "      <td>0.0</td>\n",
       "      <td>5</td>\n",
       "      <td>27</td>\n",
       "      <td>32</td>\n",
       "      <td>2011</td>\n",
       "      <td>1</td>\n",
       "      <td>1</td>\n",
       "      <td>2</td>\n",
       "      <td>0</td>\n",
       "      <td>0</td>\n",
       "    </tr>\n",
       "    <tr>\n",
       "      <th>3</th>\n",
       "      <td>2011-01-01 03:00:00</td>\n",
       "      <td>1</td>\n",
       "      <td>0</td>\n",
       "      <td>0</td>\n",
       "      <td>1</td>\n",
       "      <td>9.84</td>\n",
       "      <td>14.395</td>\n",
       "      <td>75</td>\n",
       "      <td>0.0</td>\n",
       "      <td>3</td>\n",
       "      <td>10</td>\n",
       "      <td>13</td>\n",
       "      <td>2011</td>\n",
       "      <td>1</td>\n",
       "      <td>1</td>\n",
       "      <td>3</td>\n",
       "      <td>0</td>\n",
       "      <td>0</td>\n",
       "    </tr>\n",
       "    <tr>\n",
       "      <th>4</th>\n",
       "      <td>2011-01-01 04:00:00</td>\n",
       "      <td>1</td>\n",
       "      <td>0</td>\n",
       "      <td>0</td>\n",
       "      <td>1</td>\n",
       "      <td>9.84</td>\n",
       "      <td>14.395</td>\n",
       "      <td>75</td>\n",
       "      <td>0.0</td>\n",
       "      <td>0</td>\n",
       "      <td>1</td>\n",
       "      <td>1</td>\n",
       "      <td>2011</td>\n",
       "      <td>1</td>\n",
       "      <td>1</td>\n",
       "      <td>4</td>\n",
       "      <td>0</td>\n",
       "      <td>0</td>\n",
       "    </tr>\n",
       "  </tbody>\n",
       "</table>\n",
       "</div>"
      ],
      "text/plain": [
       "             datetime  season  holiday  workingday  weather  temp   atemp  \\\n",
       "0 2011-01-01 00:00:00       1        0           0        1  9.84  14.395   \n",
       "1 2011-01-01 01:00:00       1        0           0        1  9.02  13.635   \n",
       "2 2011-01-01 02:00:00       1        0           0        1  9.02  13.635   \n",
       "3 2011-01-01 03:00:00       1        0           0        1  9.84  14.395   \n",
       "4 2011-01-01 04:00:00       1        0           0        1  9.84  14.395   \n",
       "\n",
       "   humidity  windspeed  casual  registered  count  year  month  day  hour  \\\n",
       "0        81        0.0       3          13     16  2011      1    1     0   \n",
       "1        80        0.0       8          32     40  2011      1    1     1   \n",
       "2        80        0.0       5          27     32  2011      1    1     2   \n",
       "3        75        0.0       3          10     13  2011      1    1     3   \n",
       "4        75        0.0       0           1      1  2011      1    1     4   \n",
       "\n",
       "   minute  second  \n",
       "0       0       0  \n",
       "1       0       0  \n",
       "2       0       0  \n",
       "3       0       0  \n",
       "4       0       0  "
      ]
     },
     "execution_count": 69,
     "metadata": {},
     "output_type": "execute_result"
    }
   ],
   "source": [
    "train['year'] = train['datetime'].dt.year\n",
    "train['month'] = train['datetime'].dt.month\n",
    "train['day'] = train['datetime'].dt.day\n",
    "train['hour'] = train['datetime'].dt.hour\n",
    "train['minute'] = train['datetime'].dt.minute\n",
    "train['second'] = train['datetime'].dt.second\n",
    "train.head()"
   ]
  },
  {
   "cell_type": "markdown",
   "id": "c3894e4b",
   "metadata": {},
   "source": [
    "### (3) year, month, day, hour, minute, second 데이터 개수 시각화하기\n",
    "- sns.countplot 활용해서 시각화하기\n",
    "- subplot을 활용해서 한 번에 6개의 그래프 함께 시각화하기"
   ]
  },
  {
   "cell_type": "code",
   "execution_count": 72,
   "id": "70333250",
   "metadata": {},
   "outputs": [
    {
     "data": {
      "image/png": "[encoded data removed]",
      "text/plain": [
       "<Figure size 1080x720 with 6 Axes>"
      ]
     },
     "metadata": {
      "needs_background": "light"
     },
     "output_type": "display_data"
    }
   ],
   "source": [
    "import seaborn as sns \n",
    "\n",
    "# figuresize 설정하기\n",
    "plt.figure(figsize=(15, 10)) \n",
    "\n",
    "# 6개의 그래프를 한번에 작성하기 위해 subplot 사용하기\n",
    "plt.subplot(2, 3, 1)\n",
    "sns.countplot(data=train, x='year')\n",
    "\n",
    "plt.subplot(2, 3, 2)\n",
    "sns.countplot(data=train, x='month')\n",
    "\n",
    "plt.subplot(2, 3, 3)\n",
    "sns.countplot(data=train, x='day')\n",
    "\n",
    "plt.subplot(2, 3, 4)\n",
    "sns.countplot(data=train, x='hour')\n",
    "\n",
    "plt.subplot(2, 3, 5)\n",
    "sns.countplot(data=train, x='minute')\n",
    "\n",
    "plt.subplot(2, 3, 6)\n",
    "sns.countplot(data=train, x='second')\n",
    "\n",
    "plt.show()"
   ]
  },
  {
   "cell_type": "markdown",
   "id": "39b02fcd",
   "metadata": {},
   "source": [
    "### (4) X, y 컬럼 선택 및 train/test 데이터 분리\n",
    "\n",
    "- X(feature) 에는 어떤 데이터 컬럼을 넣어야 될지 고민해 봅시다<br> \n",
    "데이터 컬럼을 추가하거나 빼면서 잘 조합하여 데이터를 넣기 바랍니다.<br> \n",
    "만일 모든 데이터 컬럼(특징)을 넣는다면 오차 값이 말도 안 되게 적게 나올 수도 있습니다.<br> \n",
    "ex) count를 예측하는데 casual,registered 컬럼이 필요할까요?<br>\n",
    "\n",
    "- count 값을 맞추고자 하므로, y 변수에 count 컬럼의 데이터 넣기"
   ]
  },
  {
   "cell_type": "code",
   "execution_count": 74,
   "id": "857612c1",
   "metadata": {},
   "outputs": [],
   "source": [
    "# 데이터 컬럼에서 casual 과 registered는 컬럼에서 빼고 출력 \n",
    "train_X = train[['season', \n",
    "                 'holiday', \n",
    "                 'workingday', \n",
    "                 'weather', \n",
    "                 'temp', \n",
    "                 'atemp', \n",
    "                 'humidity', \n",
    "                 'windspeed',\n",
    "                 'year', \n",
    "                 'month', \n",
    "                 'day', \n",
    "                 'hour',\n",
    "                 'minute', \n",
    "                 'second']].values\n",
    "\n",
    "train_y = train['count'].values\n",
    "\n",
    "train_X, train_y, train_target, test_target = train_test_split(train_X, train_y,  test_size=0.2)"
   ]
  },
  {
   "cell_type": "markdown",
   "id": "2bd94787",
   "metadata": {},
   "source": [
    "#### (5) LinearRegression 모델 학습\n",
    "sklearn의 LinearRegression 모델 불러오기 및 학습하기"
   ]
  },
  {
   "cell_type": "code",
   "execution_count": 75,
   "id": "9c6d8832",
   "metadata": {},
   "outputs": [
    {
     "data": {
      "text/plain": [
       "LinearRegression()"
      ]
     },
     "execution_count": 75,
     "metadata": {},
     "output_type": "execute_result"
    }
   ],
   "source": [
    "model = LinearRegression()\n",
    "model.fit(train_X, train_target)"
   ]
  },
  {
   "cell_type": "markdown",
   "id": "f342b54d",
   "metadata": {},
   "source": [
    "### (6) 학습된 모델로 X_test에 대한 예측값 출력 및 손실함수값 계산\n",
    "- 학습된 모델에 X_test를 입력해서 예측값 출력하기\n",
    "- 모델이 예측한 값과 정답 target 간의 손실함수 값 계산하기\n",
    "- mse 값과 함께 rmse 값도 계산하기"
   ]
  },
  {
   "cell_type": "code",
   "execution_count": 83,
   "id": "dff2c097",
   "metadata": {},
   "outputs": [
    {
     "name": "stdout",
     "output_type": "stream",
     "text": [
      "RMSE점수 : 142.81869714916132\n",
      "MSE점수 : 20397.18025538386\n"
     ]
    }
   ],
   "source": [
    "# 예측값 출력하기\n",
    "predictions = model.predict(train_y) \n",
    "# predictions\n",
    "\n",
    "# 손실함수 값 계산하기 (mse값과 함께 rmse 값도 계산하기)\n",
    "def MSE(a, b):\n",
    "    mse = ((a - b) ** 2).mean()\n",
    "    return mse\n",
    "\n",
    "def RMSE(a, b):\n",
    "    mse = ((a - b) ** 2).mean()\n",
    "    rmse = mse ** 0.5\n",
    "    return rmse\n",
    "\n",
    "print(f\"RMSE점수 : {RMSE(test_target, predictions)}\")\n",
    "print(f\"MSE점수 : {MSE(test_target, predictions)}\")"
   ]
  },
  {
   "cell_type": "markdown",
   "id": "afc1f567",
   "metadata": {},
   "source": [
    "### (7) x축은 temp 또는 humidity로, y축은 count로 예측 결과 시각화하기\n",
    "- x축에 X 데이터 중 temp 데이터를, y축에는 count 데이터를 넣어서 시각화하기\n",
    "- x축에 X 데이터 중 humidity 데이터를, y축에는 count 데이터를 넣어서 시각화하기"
   ]
  },
  {
   "cell_type": "code",
   "execution_count": 86,
   "id": "be4508da",
   "metadata": {},
   "outputs": [
    {
     "data": {
      "image/png": "[encoded data removed]",
      "text/plain": [
       "<Figure size 720x432 with 1 Axes>"
      ]
     },
     "metadata": {
      "needs_background": "light"
     },
     "output_type": "display_data"
    }
   ],
   "source": [
    "# temp와 humidity 중 temp 데이터를 시각화 해보기  \n",
    "# x, y \n",
    "plt.figure(figsize=(10,6))\n",
    "\n",
    "# 여기서 temp가 X_train 지정하는 부분에서 5번째 인덱스에 있기 때문에 :,4로 설정 \n",
    "plt.scatter(train_y[:,4], test_target, label=\"true\")\n",
    "plt.scatter(train_y[:,4], predictions, label=\"pred\")\n",
    "plt.title(\"temp\")\n",
    "plt.legend()\n",
    "plt.show()\n"
   ]
  },
  {
   "cell_type": "markdown",
   "id": "a93d9a81",
   "metadata": {},
   "source": [
    "> <h3>회고록</h3> \n",
    "---\n",
    "**이번 프로젝트를 진행하면서 어려웠던 점** <br>\n",
    "짧은 시간 내에 가중치 w,b를 추측하고 기울기를 뽑고 훈련셋을 설정하여 로스값을 계산하는 부분들이 한 두번만에 바로 이루어지지 않아서 조금 힘들었습니다\n",
    "---\n",
    "**이번 프로젝트에서 학습한 내용** <br>\n",
    "사이킷런 라이브러를 활용하여 데이터를 예측하고 시각화 하는 방법  <br>\n",
    "수학 공식을(미분,적분) 모르면 공식을 전혀 적용할 수 없을 줄 알았는데 좋은 라이브러리를 잘 활용할 수 있다면 충분히 가능하다는 점에서 용기가 아주 조금 생겼다 🥹\n",
    "---\n",
    "**알아낸 점이나 모호한 점** <br>\n",
    "시각화 한 데이터들이 극명하게 차이가 나지 않는 한 한 눈에 데이터를 분석할 수 있는 상태가 아니라서 조금 아쉽다"
   ]
  },
  {
   "cell_type": "code",
   "execution_count": null,
   "id": "03acee4a",
   "metadata": {},
   "outputs": [],
   "source": []
  }
 ],
 "metadata": {
  "kernelspec": {
   "display_name": "Python 3 (ipykernel)",
   "language": "python",
   "name": "python3"
  },
  "language_info": {
   "codemirror_mode": {
    "name": "ipython",
    "version": 3
   },
   "file_extension": ".py",
   "mimetype": "text/x-python",
   "name": "python",
   "nbconvert_exporter": "python",
   "pygments_lexer": "ipython3",
   "version": "3.9.7"
  }
 },
 "nbformat": 4,
 "nbformat_minor": 5
}
