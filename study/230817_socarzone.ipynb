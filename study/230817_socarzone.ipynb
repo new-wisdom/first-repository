{
 "cells": [
  {
   "cell_type": "markdown",
   "id": "af1746e6",
   "metadata": {},
   "source": [
    "- Socar Zone 최적의 위치를 찾아라! "
   ]
  },
  {
   "cell_type": "code",
   "execution_count": null,
   "id": "67578135",
   "metadata": {},
   "outputs": [],
   "source": []
  }
 ],
 "metadata": {
  "kernelspec": {
   "display_name": "Python 3 (ipykernel)",
   "language": "python",
   "name": "python3"
  },
  "language_info": {
   "codemirror_mode": {
    "name": "ipython",
    "version": 3
   },
   "file_extension": ".py",
   "mimetype": "text/x-python",
   "name": "python",
   "nbconvert_exporter": "python",
   "pygments_lexer": "ipython3",
   "version": "3.9.7"
  }
 },
 "nbformat": 4,
 "nbformat_minor": 5
}
