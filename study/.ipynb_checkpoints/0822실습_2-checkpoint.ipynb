{
 "cells": [
  {
   "cell_type": "markdown",
   "id": "888cd89c",
   "metadata": {},
   "source": [
    "<h1>데이터 분석</h1>\n",
    "\n",
    "- 주어진 데이터는 주로 시각화를 통해 분석될 예정입니다.\n",
    "- 이를 탐색적 데이터 분석(EDA:Exploratory Data Analysis)라고 합니다\n",
    "- 먼저 데이터분석을 위해 Pandas, Numpy, Matplotlib, Seaborn을 호출합니다."
   ]
  },
  {
   "cell_type": "code",
   "execution_count": 2,
   "id": "60fdbaa5",
   "metadata": {},
   "outputs": [],
   "source": [
    "# Pandas, Numpy, Matplotlib, Seaborn을 호출\n",
    "import pandas as pd\n",
    "import numpy as np\n",
    "import matplotlib.pyplot as plt\n",
    "plt.style.use('default')\n",
    "import seaborn as sns"
   ]
  },
  {
   "cell_type": "markdown",
   "id": "ac758acc",
   "metadata": {},
   "source": [
    "**sales_data 변수를 만들고 각 데이터 값을 할당**<br>\n",
    "\n",
    "Sales 데이터를 살펴보니 총 여섯 개 컬럼이 발견되었습니다.\n",
    "\n",
    "1. 고객들이 게임을 설치한 일자(install)\n",
    "2. 최종 로그기록(Time_stamp)\n",
    "3. 게임명(Game_Name)\n",
    "4. 상태(Status)\n",
    "5. 결제금액(Payment)\n",
    "6. 유저 아이디(Customer_ID)"
   ]
  },
  {
   "cell_type": "code",
   "execution_count": 3,
   "id": "5308bc9b",
   "metadata": {},
   "outputs": [
    {
     "data": {
      "text/html": [
       "<div>\n",
       "<style scoped>\n",
       "    .dataframe tbody tr th:only-of-type {\n",
       "        vertical-align: middle;\n",
       "    }\n",
       "\n",
       "    .dataframe tbody tr th {\n",
       "        vertical-align: top;\n",
       "    }\n",
       "\n",
       "    .dataframe thead th {\n",
       "        text-align: right;\n",
       "    }\n",
       "</style>\n",
       "<table border=\"1\" class=\"dataframe\">\n",
       "  <thead>\n",
       "    <tr style=\"text-align: right;\">\n",
       "      <th></th>\n",
       "      <th>install</th>\n",
       "      <th>Time_stamp</th>\n",
       "      <th>Game_Name</th>\n",
       "      <th>Status</th>\n",
       "      <th>Payment</th>\n",
       "      <th>Customer_ID</th>\n",
       "    </tr>\n",
       "  </thead>\n",
       "  <tbody>\n",
       "    <tr>\n",
       "      <th>0</th>\n",
       "      <td>2022-01-08</td>\n",
       "      <td>2022-02-05</td>\n",
       "      <td>MineGround</td>\n",
       "      <td>play</td>\n",
       "      <td>4900</td>\n",
       "      <td>facilis140</td>\n",
       "    </tr>\n",
       "    <tr>\n",
       "      <th>1</th>\n",
       "      <td>2022-01-05</td>\n",
       "      <td>2022-02-17</td>\n",
       "      <td>MineGround</td>\n",
       "      <td>play</td>\n",
       "      <td>29900</td>\n",
       "      <td>debitis994</td>\n",
       "    </tr>\n",
       "    <tr>\n",
       "      <th>2</th>\n",
       "      <td>2022-01-29</td>\n",
       "      <td>2022-02-06</td>\n",
       "      <td>MineGround</td>\n",
       "      <td>play</td>\n",
       "      <td>4900</td>\n",
       "      <td>possimus246</td>\n",
       "    </tr>\n",
       "    <tr>\n",
       "      <th>3</th>\n",
       "      <td>2022-01-09</td>\n",
       "      <td>2022-02-05</td>\n",
       "      <td>MineGround</td>\n",
       "      <td>play</td>\n",
       "      <td>900</td>\n",
       "      <td>occaecati138</td>\n",
       "    </tr>\n",
       "    <tr>\n",
       "      <th>4</th>\n",
       "      <td>2022-01-08</td>\n",
       "      <td>2022-02-01</td>\n",
       "      <td>MineGround</td>\n",
       "      <td>play</td>\n",
       "      <td>900</td>\n",
       "      <td>corrupti325</td>\n",
       "    </tr>\n",
       "  </tbody>\n",
       "</table>\n",
       "</div>"
      ],
      "text/plain": [
       "      install  Time_stamp   Game_Name Status  Payment   Customer_ID\n",
       "0  2022-01-08  2022-02-05  MineGround   play     4900    facilis140\n",
       "1  2022-01-05  2022-02-17  MineGround   play    29900    debitis994\n",
       "2  2022-01-29  2022-02-06  MineGround   play     4900   possimus246\n",
       "3  2022-01-09  2022-02-05  MineGround   play      900  occaecati138\n",
       "4  2022-01-08  2022-02-01  MineGround   play      900   corrupti325"
      ]
     },
     "execution_count": 3,
     "metadata": {},
     "output_type": "execute_result"
    }
   ],
   "source": [
    "sales_data = pd.read_csv('/aiffel/aiffel/data_analysis_basic/data/sales_6.csv')\n",
    "\n",
    "# 변수 sales_data의 head 값 확인하기\n",
    "sales_data.head()"
   ]
  },
  {
   "cell_type": "markdown",
   "id": "ffd8c7cf",
   "metadata": {},
   "source": [
    "- **우선 월별 게임 설치/플레이 횟수를 먼저 살펴보도록 하겠습니다.** <br>\n",
    "Sales_data에 ‘date’열을 만들고, value_counts() 함수를 적용하면 쉽게 계산할 수 있습니다"
   ]
  },
  {
   "cell_type": "code",
   "execution_count": 4,
   "id": "815748d3",
   "metadata": {},
   "outputs": [
    {
     "data": {
      "text/html": [
       "<div>\n",
       "<style scoped>\n",
       "    .dataframe tbody tr th:only-of-type {\n",
       "        vertical-align: middle;\n",
       "    }\n",
       "\n",
       "    .dataframe tbody tr th {\n",
       "        vertical-align: top;\n",
       "    }\n",
       "\n",
       "    .dataframe thead th {\n",
       "        text-align: right;\n",
       "    }\n",
       "</style>\n",
       "<table border=\"1\" class=\"dataframe\">\n",
       "  <thead>\n",
       "    <tr style=\"text-align: right;\">\n",
       "      <th></th>\n",
       "      <th>install</th>\n",
       "      <th>Time_stamp</th>\n",
       "      <th>Game_Name</th>\n",
       "      <th>Status</th>\n",
       "      <th>Payment</th>\n",
       "      <th>Customer_ID</th>\n",
       "      <th>date</th>\n",
       "    </tr>\n",
       "  </thead>\n",
       "  <tbody>\n",
       "    <tr>\n",
       "      <th>0</th>\n",
       "      <td>2022-01-08</td>\n",
       "      <td>2022-02-05</td>\n",
       "      <td>MineGround</td>\n",
       "      <td>play</td>\n",
       "      <td>4900</td>\n",
       "      <td>facilis140</td>\n",
       "      <td>2022-02</td>\n",
       "    </tr>\n",
       "    <tr>\n",
       "      <th>1</th>\n",
       "      <td>2022-01-05</td>\n",
       "      <td>2022-02-17</td>\n",
       "      <td>MineGround</td>\n",
       "      <td>play</td>\n",
       "      <td>29900</td>\n",
       "      <td>debitis994</td>\n",
       "      <td>2022-02</td>\n",
       "    </tr>\n",
       "    <tr>\n",
       "      <th>2</th>\n",
       "      <td>2022-01-29</td>\n",
       "      <td>2022-02-06</td>\n",
       "      <td>MineGround</td>\n",
       "      <td>play</td>\n",
       "      <td>4900</td>\n",
       "      <td>possimus246</td>\n",
       "      <td>2022-02</td>\n",
       "    </tr>\n",
       "    <tr>\n",
       "      <th>3</th>\n",
       "      <td>2022-01-09</td>\n",
       "      <td>2022-02-05</td>\n",
       "      <td>MineGround</td>\n",
       "      <td>play</td>\n",
       "      <td>900</td>\n",
       "      <td>occaecati138</td>\n",
       "      <td>2022-02</td>\n",
       "    </tr>\n",
       "    <tr>\n",
       "      <th>4</th>\n",
       "      <td>2022-01-08</td>\n",
       "      <td>2022-02-01</td>\n",
       "      <td>MineGround</td>\n",
       "      <td>play</td>\n",
       "      <td>900</td>\n",
       "      <td>corrupti325</td>\n",
       "      <td>2022-02</td>\n",
       "    </tr>\n",
       "  </tbody>\n",
       "</table>\n",
       "</div>"
      ],
      "text/plain": [
       "      install  Time_stamp   Game_Name Status  Payment   Customer_ID     date\n",
       "0  2022-01-08  2022-02-05  MineGround   play     4900    facilis140  2022-02\n",
       "1  2022-01-05  2022-02-17  MineGround   play    29900    debitis994  2022-02\n",
       "2  2022-01-29  2022-02-06  MineGround   play     4900   possimus246  2022-02\n",
       "3  2022-01-09  2022-02-05  MineGround   play      900  occaecati138  2022-02\n",
       "4  2022-01-08  2022-02-01  MineGround   play      900   corrupti325  2022-02"
      ]
     },
     "execution_count": 4,
     "metadata": {},
     "output_type": "execute_result"
    }
   ],
   "source": [
    "# sales_data의 date열을 만들고 Time_stamp 값의 7번째 값까지 입력 \n",
    "sales_data['date'] = sales_data['Time_stamp'].str[:7]\n",
    "sales_data.head()"
   ]
  },
  {
   "cell_type": "code",
   "execution_count": 5,
   "id": "d83b554c",
   "metadata": {},
   "outputs": [
    {
     "data": {
      "text/plain": [
       "2022-03    50465\n",
       "2022-02    49380\n",
       "Name: date, dtype: int64"
      ]
     },
     "execution_count": 5,
     "metadata": {},
     "output_type": "execute_result"
    }
   ],
   "source": [
    "sales_data['date'].value_counts()"
   ]
  },
  {
   "cell_type": "markdown",
   "id": "16163b82",
   "metadata": {},
   "source": [
    "<h2>항목별 데이터가 얼마나 있는지 보여주는 countplot을 그려 봅시다.</h2>"
   ]
  },
  {
   "cell_type": "code",
   "execution_count": 6,
   "id": "f361d550",
   "metadata": {
    "scrolled": true
   },
   "outputs": [
    {
     "data": {
      "image/png": "[encoded data removed]",
      "text/plain": [
       "<Figure size 640x480 with 1 Axes>"
      ]
     },
     "metadata": {},
     "output_type": "display_data"
    }
   ],
   "source": [
    "# 월별 고객 수 현황 시각화하기\n",
    "ax = sns.countplot(data=sales_data, x='date')\n",
    "ax\n",
    "\n",
    "containers = ax.containers[0]\n",
    "ax.bar_label(containers, labels=[f'{x:,.0f}' for x in containers.datavalues], label_type='center')\n",
    "\n",
    "plt.title('Customer By Month')\n",
    "\n",
    "plt.show()"
   ]
  },
  {
   "cell_type": "markdown",
   "id": "81482388",
   "metadata": {},
   "source": [
    "우리 기업 고객 현황을 월별로 구분해보았습니다.<br>\n",
    "2월에 기록한 고객수는 49,380명, 3월은 50,465명으로 오히려 증가했네요.<br>\n",
    "매출은 줄었는데 고객이 늘었다니 이상합니다."
   ]
  },
  {
   "cell_type": "markdown",
   "id": "60ba5c7b",
   "metadata": {},
   "source": [
    "<h2>이번에는 각 게임별 고객 숫자를 한번 살펴보겠습니다.</h2>\n",
    "\n",
    "- 게임별로 고객 숫자를 집계하기 위해서는 **groupby()**라는 함수가 사용됩니다.<br>\n",
    "- groupby()는 pandas의 데이터프레임 중 특정 열을 기준으로 집계할 수 있습니다.<br>\n",
    "\n",
    "- grouped 변수를 만들고 sales_data의 Status의 값을 sales_data의 date와 Game_Name을 기준으로 집계한 값을 할당해' 라는 의미입니다.<br>\n",
    "- 이 경우에는 집계 방식이 count이므로, **date와 Game_Name 항목의** 값을 기준으로 데이터를 묶은 다음 각 그룹에 속한 데이터 행의 개수를 세서 \n",
    "grouped 변수에 할당합니다.<br>"
   ]
  },
  {
   "cell_type": "code",
   "execution_count": 7,
   "id": "2e5ef22c",
   "metadata": {},
   "outputs": [
    {
     "data": {
      "text/html": [
       "<div>\n",
       "<style scoped>\n",
       "    .dataframe tbody tr th:only-of-type {\n",
       "        vertical-align: middle;\n",
       "    }\n",
       "\n",
       "    .dataframe tbody tr th {\n",
       "        vertical-align: top;\n",
       "    }\n",
       "\n",
       "    .dataframe thead th {\n",
       "        text-align: right;\n",
       "    }\n",
       "</style>\n",
       "<table border=\"1\" class=\"dataframe\">\n",
       "  <thead>\n",
       "    <tr style=\"text-align: right;\">\n",
       "      <th></th>\n",
       "      <th>date</th>\n",
       "      <th>Game_Name</th>\n",
       "      <th>Status</th>\n",
       "    </tr>\n",
       "  </thead>\n",
       "  <tbody>\n",
       "    <tr>\n",
       "      <th>0</th>\n",
       "      <td>2022-02</td>\n",
       "      <td>MineGround</td>\n",
       "      <td>27721</td>\n",
       "    </tr>\n",
       "    <tr>\n",
       "      <th>1</th>\n",
       "      <td>2022-02</td>\n",
       "      <td>SoccerManager</td>\n",
       "      <td>21659</td>\n",
       "    </tr>\n",
       "    <tr>\n",
       "      <th>2</th>\n",
       "      <td>2022-03</td>\n",
       "      <td>MineGround</td>\n",
       "      <td>32192</td>\n",
       "    </tr>\n",
       "    <tr>\n",
       "      <th>3</th>\n",
       "      <td>2022-03</td>\n",
       "      <td>SoccerManager</td>\n",
       "      <td>18273</td>\n",
       "    </tr>\n",
       "  </tbody>\n",
       "</table>\n",
       "</div>"
      ],
      "text/plain": [
       "      date      Game_Name  Status\n",
       "0  2022-02     MineGround   27721\n",
       "1  2022-02  SoccerManager   21659\n",
       "2  2022-03     MineGround   32192\n",
       "3  2022-03  SoccerManager   18273"
      ]
     },
     "execution_count": 7,
     "metadata": {},
     "output_type": "execute_result"
    }
   ],
   "source": [
    "# 월별 각 게임 고객 수 분류하기\n",
    "grouped = sales_data['Status'].groupby([sales_data['date'], sales_data['Game_Name']]).count()\n",
    "a = pd.DataFrame(grouped)\n",
    "a.reset_index()"
   ]
  },
  {
   "cell_type": "markdown",
   "id": "f51950ca",
   "metadata": {},
   "source": [
    "이번에는 막대그래프를 그려 월별 각 게임 고객의 수를 시각화해보겠습니다."
   ]
  },
  {
   "cell_type": "code",
   "execution_count": 8,
   "id": "b476a8a8",
   "metadata": {},
   "outputs": [
    {
     "data": {
      "image/png": "[encoded data removed]",
      "text/plain": [
       "<Figure size 640x480 with 1 Axes>"
      ]
     },
     "metadata": {},
     "output_type": "display_data"
    }
   ],
   "source": [
    "# 월별 각 게임 고객 수 시각화하기 (hue -> 삼차원 그래프)\n",
    "# 인덱스 별 상관없음...\n",
    "ax = sns.barplot(data=grouped.reset_index(), x='date', y='Status', hue='Game_Name')\n",
    "\n",
    "containers = ax.containers[1]\n",
    "containers0 = ax.containers[0]\n",
    "ax.bar_label(containers, labels=[f'{x:,.0f}' for x in containers.datavalues], label_type='center')\n",
    "ax.bar_label(containers0, labels=[f'{x:,.0f}' for x in containers0.datavalues], label_type='center')\n",
    "\n",
    "plt.title('Customer Count by Game')\n",
    "plt.show()"
   ]
  },
  {
   "cell_type": "markdown",
   "id": "71a84d14",
   "metadata": {},
   "source": [
    "각 게임별로 고객 현황을 구분해보았습니다.<br>\n",
    "\n",
    "Mine Ground 고객은 2월에 27,721명, 3월 32,192명으로 증가했고,<br>\n",
    "Soccer Manager 고객은 2월에 21,659명, 3월 18,273명으로 감소했습니다.<br>\n",
    "\n",
    "Soccer Manager 고객 수만 감소한 원인이 있을까요?.<br>\n",
    "\n",
    "우선은 전체 기업 입장의 분석에 집중해보도록 합시다..<br>\n",
    "이번에는 게임을 플레이한 고객과 인스톨한 고객으로 구분해보겠습니다..<br>"
   ]
  },
  {
   "cell_type": "code",
   "execution_count": 9,
   "id": "4a7ebc71",
   "metadata": {},
   "outputs": [
    {
     "data": {
      "text/plain": [
       "play       84821\n",
       "install    15024\n",
       "Name: Status, dtype: int64"
      ]
     },
     "execution_count": 9,
     "metadata": {},
     "output_type": "execute_result"
    }
   ],
   "source": [
    "# sales_data의 Status 열에 포함된 값들의 개수 세어보기\n",
    "sales_data['Status'].value_counts()"
   ]
  },
  {
   "cell_type": "code",
   "execution_count": 10,
   "id": "cedbd0f7",
   "metadata": {},
   "outputs": [
    {
     "data": {
      "image/png": "[encoded data removed]",
      "text/plain": [
       "<Figure size 640x480 with 1 Axes>"
      ]
     },
     "metadata": {},
     "output_type": "display_data"
    }
   ],
   "source": [
    " # hint: hue를 'Status'로 지정해 보세요. \n",
    "\n",
    "# 월별 플레이/인스톨 고객 수 시각화하기 (hue -> 삼차원 그래프)\n",
    "ax = sns.countplot(data=sales_data, x='date', hue='Status')\n",
    "\n",
    "containers = ax.containers[1]\n",
    "ax.bar_label(containers, labels=[f'{x:,.0f}' for x in containers.datavalues], label_type='center')\n",
    "containers0 = ax.containers[0]\n",
    "ax.bar_label(containers0, labels=[f'{x:,.0f}' for x in containers0.datavalues], label_type='center')\n",
    "\n",
    "plt.title('Customer by Real Play')\n",
    "plt.show()"
   ]
  },
  {
   "cell_type": "markdown",
   "id": "926873ff",
   "metadata": {},
   "source": [
    "이번에는 월별 결제 건수를 한번 살펴보겠습니다."
   ]
  },
  {
   "cell_type": "code",
   "execution_count": 11,
   "id": "947aa7cf",
   "metadata": {},
   "outputs": [
    {
     "data": {
      "text/plain": [
       "2022-02    8542\n",
       "2022-03    6898\n",
       "Name: date, dtype: int64"
      ]
     },
     "execution_count": 11,
     "metadata": {},
     "output_type": "execute_result"
    }
   ],
   "source": [
    "temp_data = sales_data[sales_data['Payment'] !=0]\n",
    "# sales_data\n",
    "temp_data['date'].value_counts()"
   ]
  },
  {
   "cell_type": "code",
   "execution_count": 12,
   "id": "ac71ef0c",
   "metadata": {},
   "outputs": [
    {
     "data": {
      "image/png": "[encoded data removed]",
      "text/plain": [
       "<Figure size 640x480 with 1 Axes>"
      ]
     },
     "metadata": {},
     "output_type": "display_data"
    }
   ],
   "source": [
    "# 월별 결제 횟수 시각화하기\n",
    "ax = sns.countplot(data=temp_data, x='date') \n",
    "containers = ax.containers[0]\n",
    "\n",
    "ax.bar_label(containers, labels=[f'{x:,.0f}' for x in containers.datavalues], label_type='center')\n",
    "plt.title('Payment Counts by Month')\n",
    "plt.show()"
   ]
  },
  {
   "cell_type": "markdown",
   "id": "fccadd5c",
   "metadata": {},
   "source": [
    "확실히 결제 건수가 많이 줄어든 것을 확인할 수 있습니다. 각 게임별 결제건수는 어떨까요?\n",
    "Soccer Manager 고객 숫자가 줄었던것을 감안하면, Soccer Manager의 결제건수만 줄었을 것 같아요."
   ]
  },
  {
   "cell_type": "markdown",
   "id": "bb2e53bc",
   "metadata": {},
   "source": [
    "<h4>한 번 확인해보겠습니다.</h4>\n",
    "우선 각 게임별 결제 건수를 확인하고 막대 그래프를 이용해 시각화해보겠습니다."
   ]
  },
  {
   "cell_type": "code",
   "execution_count": 13,
   "id": "4a72ad37",
   "metadata": {},
   "outputs": [
    {
     "data": {
      "text/plain": [
       "date     Game_Name    \n",
       "2022-02  MineGround       4318\n",
       "         SoccerManager    4224\n",
       "2022-03  MineGround       3762\n",
       "         SoccerManager    3136\n",
       "Name: Payment, dtype: int64"
      ]
     },
     "execution_count": 13,
     "metadata": {},
     "output_type": "execute_result"
    }
   ],
   "source": [
    "# 각 게임별 결제 건수 확인하기\n",
    "# 그룹바이 2개 넣을 때 (리스트에 넣어준다)\n",
    "grouped = temp_data['Payment'].groupby([temp_data['date'], temp_data['Game_Name']]).count()\n",
    "grouped"
   ]
  },
  {
   "cell_type": "code",
   "execution_count": 14,
   "id": "58c3dfd0",
   "metadata": {},
   "outputs": [
    {
     "data": {
      "image/png": "[encoded data removed]",
      "text/plain": [
       "<Figure size 640x480 with 1 Axes>"
      ]
     },
     "metadata": {},
     "output_type": "display_data"
    }
   ],
   "source": [
    "# 각 게임별 결제 건수 시각화하기\n",
    "ax = sns.barplot(data=grouped.reset_index(), x='date', y='Payment', hue='Game_Name')\n",
    "\n",
    "containers = ax.containers[-1]\n",
    "containers0 = ax.containers[0]\n",
    "ax.bar_label(containers, labels=[f'{x:,.0f}' for x in containers.datavalues], label_type='center')\n",
    "ax.bar_label(containers0, labels=[f'{x:,.0f}' for x in containers0.datavalues], label_type='center')\n",
    "plt.title('Payment Count By Game')\n",
    "plt.show()"
   ]
  },
  {
   "cell_type": "markdown",
   "id": "340ade45",
   "metadata": {},
   "source": [
    "<h4>이번에는 여러분이 직접 각 게임별 결제 금액을 확인하고, 막대 그래프로 시각화해보세요.</h4>\n",
    "- 각 게임별 결제 금액 확인하기(sum)"
   ]
  },
  {
   "cell_type": "code",
   "execution_count": 16,
   "id": "130c51d6",
   "metadata": {},
   "outputs": [
    {
     "data": {
      "text/plain": [
       "date     Game_Name    \n",
       "2022-02  MineGround       42114200\n",
       "         SoccerManager    38727600\n",
       "2022-03  MineGround       38722800\n",
       "         SoccerManager    29638400\n",
       "Name: Payment, dtype: int64"
      ]
     },
     "execution_count": 16,
     "metadata": {},
     "output_type": "execute_result"
    }
   ],
   "source": [
    "grouped = temp_data['Payment'].groupby([temp_data['date'], temp_data['Game_Name']]).sum()\n",
    "grouped"
   ]
  },
  {
   "cell_type": "markdown",
   "id": "bed1c0bd",
   "metadata": {},
   "source": [
    "<h4>각 게임별 결제 금액 시각화하기</h4>"
   ]
  },
  {
   "cell_type": "code",
   "execution_count": 17,
   "id": "93825de0",
   "metadata": {},
   "outputs": [
    {
     "data": {
      "image/png": "[encoded data removed]",
      "text/plain": [
       "<Figure size 640x480 with 1 Axes>"
      ]
     },
     "metadata": {},
     "output_type": "display_data"
    }
   ],
   "source": [
    "ax = sns.barplot(data=grouped.reset_index(), x='date', y='Payment', hue='Game_Name')\n",
    "\n",
    "containers = ax.containers[-1]\n",
    "containers0 = ax.containers[0]\n",
    "ax.bar_label(containers, labels=[f'{x:,.0f}' for x in containers.datavalues], label_type='center')\n",
    "ax.bar_label(containers0, labels=[f'{x:,.0f}' for x in containers0.datavalues], label_type='center')\n",
    "plt.title('Payment Sum By Game')\n",
    "plt.show()"
   ]
  },
  {
   "cell_type": "markdown",
   "id": "2284b004",
   "metadata": {},
   "source": [
    "Mine Ground와 Soccer Manager 모두 결제 건수와 결제 금액이 줄어들었네요.<br>\n",
    "즉, 매출액이 줄어든 것에 대한 원인은 Soccer Manager의 고객 숫자가 줄어든 것보다<br>\n",
    "두 게임에서의 결제 인원이 줄어든 것이 더 큰 원인이라고 볼 수 있습니다. "
   ]
  },
  {
   "cell_type": "markdown",
   "id": "8bae33f4",
   "metadata": {},
   "source": [
    "<h4>이제 본격적으로 매출액에 영향을 주는 고객들을 정의하고 살펴보도록 하겠습니다.</h4>"
   ]
  },
  {
   "cell_type": "code",
   "execution_count": 19,
   "id": "b5043822",
   "metadata": {},
   "outputs": [
    {
     "data": {
      "text/html": [
       "<div>\n",
       "<style scoped>\n",
       "    .dataframe tbody tr th:only-of-type {\n",
       "        vertical-align: middle;\n",
       "    }\n",
       "\n",
       "    .dataframe tbody tr th {\n",
       "        vertical-align: top;\n",
       "    }\n",
       "\n",
       "    .dataframe thead th {\n",
       "        text-align: right;\n",
       "    }\n",
       "</style>\n",
       "<table border=\"1\" class=\"dataframe\">\n",
       "  <thead>\n",
       "    <tr style=\"text-align: right;\">\n",
       "      <th></th>\n",
       "      <th>install</th>\n",
       "      <th>Time_stamp</th>\n",
       "      <th>Game_Name</th>\n",
       "      <th>Status</th>\n",
       "      <th>Payment</th>\n",
       "      <th>Customer_ID</th>\n",
       "      <th>date</th>\n",
       "    </tr>\n",
       "  </thead>\n",
       "  <tbody>\n",
       "    <tr>\n",
       "      <th>0</th>\n",
       "      <td>2022-01-08</td>\n",
       "      <td>2022-02-05</td>\n",
       "      <td>MineGround</td>\n",
       "      <td>play</td>\n",
       "      <td>4900</td>\n",
       "      <td>facilis140</td>\n",
       "      <td>2022-02</td>\n",
       "    </tr>\n",
       "    <tr>\n",
       "      <th>1</th>\n",
       "      <td>2022-01-05</td>\n",
       "      <td>2022-02-17</td>\n",
       "      <td>MineGround</td>\n",
       "      <td>play</td>\n",
       "      <td>29900</td>\n",
       "      <td>debitis994</td>\n",
       "      <td>2022-02</td>\n",
       "    </tr>\n",
       "    <tr>\n",
       "      <th>2</th>\n",
       "      <td>2022-01-29</td>\n",
       "      <td>2022-02-06</td>\n",
       "      <td>MineGround</td>\n",
       "      <td>play</td>\n",
       "      <td>4900</td>\n",
       "      <td>possimus246</td>\n",
       "      <td>2022-02</td>\n",
       "    </tr>\n",
       "    <tr>\n",
       "      <th>3</th>\n",
       "      <td>2022-01-09</td>\n",
       "      <td>2022-02-05</td>\n",
       "      <td>MineGround</td>\n",
       "      <td>play</td>\n",
       "      <td>900</td>\n",
       "      <td>occaecati138</td>\n",
       "      <td>2022-02</td>\n",
       "    </tr>\n",
       "    <tr>\n",
       "      <th>4</th>\n",
       "      <td>2022-01-08</td>\n",
       "      <td>2022-02-01</td>\n",
       "      <td>MineGround</td>\n",
       "      <td>play</td>\n",
       "      <td>900</td>\n",
       "      <td>corrupti325</td>\n",
       "      <td>2022-02</td>\n",
       "    </tr>\n",
       "    <tr>\n",
       "      <th>...</th>\n",
       "      <td>...</td>\n",
       "      <td>...</td>\n",
       "      <td>...</td>\n",
       "      <td>...</td>\n",
       "      <td>...</td>\n",
       "      <td>...</td>\n",
       "      <td>...</td>\n",
       "    </tr>\n",
       "    <tr>\n",
       "      <th>84816</th>\n",
       "      <td>2022-03-06</td>\n",
       "      <td>2022-03-11</td>\n",
       "      <td>SoccerManager</td>\n",
       "      <td>play</td>\n",
       "      <td>0</td>\n",
       "      <td>sed821</td>\n",
       "      <td>2022-03</td>\n",
       "    </tr>\n",
       "    <tr>\n",
       "      <th>84817</th>\n",
       "      <td>2022-03-20</td>\n",
       "      <td>2022-03-23</td>\n",
       "      <td>SoccerManager</td>\n",
       "      <td>play</td>\n",
       "      <td>0</td>\n",
       "      <td>minima581</td>\n",
       "      <td>2022-03</td>\n",
       "    </tr>\n",
       "    <tr>\n",
       "      <th>84818</th>\n",
       "      <td>2022-03-25</td>\n",
       "      <td>2022-03-27</td>\n",
       "      <td>SoccerManager</td>\n",
       "      <td>play</td>\n",
       "      <td>0</td>\n",
       "      <td>harum162</td>\n",
       "      <td>2022-03</td>\n",
       "    </tr>\n",
       "    <tr>\n",
       "      <th>84819</th>\n",
       "      <td>2022-03-15</td>\n",
       "      <td>2022-03-18</td>\n",
       "      <td>SoccerManager</td>\n",
       "      <td>play</td>\n",
       "      <td>0</td>\n",
       "      <td>eveniet498</td>\n",
       "      <td>2022-03</td>\n",
       "    </tr>\n",
       "    <tr>\n",
       "      <th>84820</th>\n",
       "      <td>2022-03-12</td>\n",
       "      <td>2022-03-17</td>\n",
       "      <td>SoccerManager</td>\n",
       "      <td>play</td>\n",
       "      <td>0</td>\n",
       "      <td>quis906</td>\n",
       "      <td>2022-03</td>\n",
       "    </tr>\n",
       "  </tbody>\n",
       "</table>\n",
       "<p>84821 rows × 7 columns</p>\n",
       "</div>"
      ],
      "text/plain": [
       "          install  Time_stamp      Game_Name Status  Payment   Customer_ID  \\\n",
       "0      2022-01-08  2022-02-05     MineGround   play     4900    facilis140   \n",
       "1      2022-01-05  2022-02-17     MineGround   play    29900    debitis994   \n",
       "2      2022-01-29  2022-02-06     MineGround   play     4900   possimus246   \n",
       "3      2022-01-09  2022-02-05     MineGround   play      900  occaecati138   \n",
       "4      2022-01-08  2022-02-01     MineGround   play      900   corrupti325   \n",
       "...           ...         ...            ...    ...      ...           ...   \n",
       "84816  2022-03-06  2022-03-11  SoccerManager   play        0        sed821   \n",
       "84817  2022-03-20  2022-03-23  SoccerManager   play        0     minima581   \n",
       "84818  2022-03-25  2022-03-27  SoccerManager   play        0      harum162   \n",
       "84819  2022-03-15  2022-03-18  SoccerManager   play        0    eveniet498   \n",
       "84820  2022-03-12  2022-03-17  SoccerManager   play        0       quis906   \n",
       "\n",
       "          date  \n",
       "0      2022-02  \n",
       "1      2022-02  \n",
       "2      2022-02  \n",
       "3      2022-02  \n",
       "4      2022-02  \n",
       "...        ...  \n",
       "84816  2022-03  \n",
       "84817  2022-03  \n",
       "84818  2022-03  \n",
       "84819  2022-03  \n",
       "84820  2022-03  \n",
       "\n",
       "[84821 rows x 7 columns]"
      ]
     },
     "execution_count": 19,
     "metadata": {},
     "output_type": "execute_result"
    }
   ],
   "source": [
    "# player_data변수를 만들고 sales_data에서 Status가 play인 고객들만 골라내 할당하기\n",
    "player_data = sales_data[sales_data['Status'] == 'play']\n",
    "player_data"
   ]
  },
  {
   "cell_type": "markdown",
   "id": "2f9bcc8e",
   "metadata": {},
   "source": [
    "<h4>이번에는 신규 고객과 기존 고객을 구분해보겠습니다.</h4>"
   ]
  },
  {
   "cell_type": "markdown",
   "id": "ecf23093",
   "metadata": {},
   "source": [
    "플레이한 고객들이 인스톨한 날과 비교해서\n",
    "\n",
    "인스톨한 시기와 플레이한 시기가 같으면 신규 고객(New Player) 으로 정의하고,\n",
    "인스톨한 시기와 플레이한 시기가 다르면 기존 고객(Existing) 으로 정의합니다.\n",
    "\n",
    "여기서는 입력 배열의 요소를 확인하고, \n",
    "**특정 조건에 만족하는 값을 반환하는 함수인 Numpy의 np.where() 함수를 사용해 봅시다.**"
   ]
  },
  {
   "cell_type": "code",
   "execution_count": 22,
   "id": "05b596e1",
   "metadata": {},
   "outputs": [
    {
     "name": "stderr",
     "output_type": "stream",
     "text": [
      "/tmp/ipykernel_36/400583839.py:4: SettingWithCopyWarning: \n",
      "A value is trying to be set on a copy of a slice from a DataFrame.\n",
      "Try using .loc[row_indexer,col_indexer] = value instead\n",
      "\n",
      "See the caveats in the documentation: https://pandas.pydata.org/pandas-docs/stable/user_guide/indexing.html#returning-a-view-versus-a-copy\n",
      "  player_data['install_date'] = player_data['install'].str[:7]\n",
      "/tmp/ipykernel_36/400583839.py:5: SettingWithCopyWarning: \n",
      "A value is trying to be set on a copy of a slice from a DataFrame.\n",
      "Try using .loc[row_indexer,col_indexer] = value instead\n",
      "\n",
      "See the caveats in the documentation: https://pandas.pydata.org/pandas-docs/stable/user_guide/indexing.html#returning-a-view-versus-a-copy\n",
      "  player_data['play_date'] = player_data['Time_stamp'].str[:7]\n"
     ]
    }
   ],
   "source": [
    "# player_data에 install_date열을 만들고, install열 값의 7번째 값까지 입력 \n",
    "# player_data에 play_date열을 만들고, Time_stamp열 값의 7번째 값까지 입력\n",
    " \n",
    "player_data['install_date'] = player_data['install'].str[:7]\n",
    "player_data['play_date'] = player_data['Time_stamp'].str[:7]"
   ]
  },
  {
   "cell_type": "code",
   "execution_count": 23,
   "id": "8ff42f87",
   "metadata": {},
   "outputs": [
    {
     "name": "stderr",
     "output_type": "stream",
     "text": [
      "/tmp/ipykernel_36/3328155878.py:2: SettingWithCopyWarning: \n",
      "A value is trying to be set on a copy of a slice from a DataFrame.\n",
      "Try using .loc[row_indexer,col_indexer] = value instead\n",
      "\n",
      "See the caveats in the documentation: https://pandas.pydata.org/pandas-docs/stable/user_guide/indexing.html#returning-a-view-versus-a-copy\n",
      "  player_data['type'] = np.where(player_data['install_date']==player_data['play_date'], 'New Player', 'Existing')\n"
     ]
    }
   ],
   "source": [
    "# player_data에 type열을 만들고, install_date와 play_date열의 값이 같으면 New Player을 입력, 값이 다르면 Existing을 입력\n",
    "player_data['type'] = np.where(player_data['install_date']==player_data['play_date'], 'New Player', 'Existing')"
   ]
  },
  {
   "cell_type": "code",
   "execution_count": 24,
   "id": "4a53b445",
   "metadata": {},
   "outputs": [
    {
     "data": {
      "text/plain": [
       "play_date  type      \n",
       "2022-02    Existing      28668\n",
       "           New Player    15480\n",
       "2022-03    Existing      28207\n",
       "           New Player    12466\n",
       "Name: Status, dtype: int64"
      ]
     },
     "execution_count": 24,
     "metadata": {},
     "output_type": "execute_result"
    }
   ],
   "source": [
    "# 월별 신규 고객과 기존 고객 현황 세어보기\n",
    "# install_date와 play_date열의 값이 같으면 New Player을 입력, 값이 다르면 Existing을 입력\n",
    "\n",
    "# player_data.tail()\n",
    "\n",
    "grouped = player_data['Status'].groupby([player_data['play_date'], player_data['type']]).count()\n",
    "grouped"
   ]
  },
  {
   "cell_type": "markdown",
   "id": "198f64c9",
   "metadata": {},
   "source": [
    "<h3>월별 신규 고객과 기존 고객 현황 시각화하기</h3>\n",
    "기존 플레이 고객은 기존 28,668명에서 28,207명으로 461명이 감소했습니다.<br>\n",
    "그리고 신규 플레이 고객은 15,480명에서 12,466명으로 3,014명이 감소했네요.<br>\n",
    "플레이 인원이 줄어들고 있다는 것은 큰 문제네요.<br>"
   ]
  },
  {
   "cell_type": "code",
   "execution_count": 25,
   "id": "85fd7767",
   "metadata": {},
   "outputs": [
    {
     "data": {
      "image/png": "[encoded data removed]",
      "text/plain": [
       "<Figure size 640x480 with 1 Axes>"
      ]
     },
     "metadata": {},
     "output_type": "display_data"
    }
   ],
   "source": [
    "ax = sns.countplot(data=player_data, x='play_date', hue=\"type\")\n",
    "\n",
    "containers = ax.containers[-1]\n",
    "containers0 = ax.containers[0]\n",
    "ax.bar_label(containers, labels=[f'{x:,.0f}' for x in containers.datavalues], label_type='center')\n",
    "ax.bar_label(containers0, labels=[f'{x:,.0f}' for x in containers0.datavalues], label_type='center')\n",
    "plt.title('Customer Type By Month')\n",
    "plt.show()"
   ]
  },
  {
   "cell_type": "markdown",
   "id": "6ca6cbd7",
   "metadata": {},
   "source": [
    "<h3>이번에는 우리들의 주 관심사인 결제금액을 살펴보겠습니다.</h3>\n",
    "groupby() 함수와 sum() 함수를 사용하여 월별 신규 고객과 기존 고객의 결제 현황을 나타내 보세요."
   ]
  },
  {
   "cell_type": "code",
   "execution_count": 26,
   "id": "ed44531c",
   "metadata": {},
   "outputs": [
    {
     "data": {
      "text/plain": [
       "play_date  type      \n",
       "2022-02    Existing      50140500\n",
       "           New Player    30701300\n",
       "2022-03    Existing      50140500\n",
       "           New Player    18220700\n",
       "Name: Payment, dtype: int64"
      ]
     },
     "execution_count": 26,
     "metadata": {},
     "output_type": "execute_result"
    }
   ],
   "source": [
    "# 월별 신규 고객과 기존 고객의 결제 현황 살펴보기\n",
    "grouped = player_data['Payment'].groupby(([player_data['play_date'], player_data['type']])).sum()\n",
    "grouped"
   ]
  },
  {
   "cell_type": "markdown",
   "id": "c84041ff",
   "metadata": {},
   "source": [
    "<h3>각 게임별 결제 금액 월별 시각화하기</h3>"
   ]
  },
  {
   "cell_type": "code",
   "execution_count": 27,
   "id": "8fcf17d5",
   "metadata": {},
   "outputs": [
    {
     "data": {
      "image/png": "[encoded data removed]",
      "text/plain": [
       "<Figure size 640x480 with 1 Axes>"
      ]
     },
     "metadata": {},
     "output_type": "display_data"
    }
   ],
   "source": [
    "a = data=grouped.reset_index()\n",
    "# a\n",
    "\n",
    "ax = sns.barplot(data=grouped.reset_index(), x='play_date', y='Payment', hue='type')\n",
    "\n",
    "containers = ax.containers[-1]\n",
    "containers0 = ax.containers[0]\n",
    "ax.bar_label(containers, labels=[f'{x:,.0f}' for x in containers.datavalues], label_type='center')\n",
    "ax.bar_label(containers0, labels=[f'{x:,.0f}' for x in containers0.datavalues], label_type='center')\n",
    "plt.title('Customer Type By Month')\n",
    "plt.show()"
   ]
  },
  {
   "cell_type": "markdown",
   "id": "58f007e6",
   "metadata": {},
   "source": [
    "이번에는 **누적막대 그래프**를 사용해서 월별 신규 고객과 기존 고객의 결제 현황을 시각화해보겠습니다.<br>\n",
    "\n",
    "이때 사용되는 grouped 변수는 멀티 인덱스로서 unstack()함수를 이용해 일반 인덱스로 변경해야 합니다.<br> \n",
    "그 다음 plot()함수에서 stacked=True 인자를 설정해야 누적막대 그래프가 그려집니다."
   ]
  },
  {
   "cell_type": "code",
   "execution_count": 28,
   "id": "be88f552",
   "metadata": {},
   "outputs": [
    {
     "data": {
      "image/png": "[encoded data removed]",
      "text/plain": [
       "<Figure size 600x600 with 1 Axes>"
      ]
     },
     "metadata": {},
     "output_type": "display_data"
    }
   ],
   "source": [
    "#월별 신규 고객과 기존 고객의 결제 현황 시각화하기(누적막대 보기)\n",
    "ax = grouped.unstack().plot(kind='bar', stacked=True, grid=False, figsize=[6,6])\n",
    "\n",
    "containers = ax.containers[-1]\n",
    "ax.bar_label(containers, labels=[f'{x:,.0f}' for x in containers.datavalues], label_type='center')\n",
    "containers0 = ax.containers[0]\n",
    "ax.bar_label(containers0, labels=[f'{x:,.0f}' for x in containers0.datavalues], label_type='center')\n",
    "\n",
    "plt.title('Payment by Type')\n",
    "plt.show()"
   ]
  },
  {
   "cell_type": "markdown",
   "id": "b86fd504",
   "metadata": {},
   "source": [
    "우선 기존 고객이 결제한 금액은 50,140,500원 동일합니다.<br>\n",
    "하지만 신규 고객이 결제한 금액은 기존 30,701,300원에서 18,220,700원으로 약 40% 수준이 감소했네요.<br>\n",
    "동 기간에 신규 고객이 줄어든 수치는 3014명으로 약 19%수준이 줄어든 것을 감안하더라도<br>\n",
    "한 달만에 이렇게나 큰 비중이 줄어든 것은 우리 기업에게 치명적입니다.<br>\n",
    "서둘러 대책을 마련해야할 것 같아요."
   ]
  },
  {
   "cell_type": "markdown",
   "id": "b7cfde05",
   "metadata": {},
   "source": [
    "<h2>신규 고객들이 결제한 금액을 보고 대응 전략을 마련해보도록 합시다.</h2>\n",
    "먼저 play_date의 인덱스를 type으로 지정해 봅시다."
   ]
  },
  {
   "cell_type": "code",
   "execution_count": 29,
   "id": "15456002",
   "metadata": {},
   "outputs": [
    {
     "data": {
      "text/html": [
       "<div>\n",
       "<style scoped>\n",
       "    .dataframe tbody tr th:only-of-type {\n",
       "        vertical-align: middle;\n",
       "    }\n",
       "\n",
       "    .dataframe tbody tr th {\n",
       "        vertical-align: top;\n",
       "    }\n",
       "\n",
       "    .dataframe thead th {\n",
       "        text-align: right;\n",
       "    }\n",
       "</style>\n",
       "<table border=\"1\" class=\"dataframe\">\n",
       "  <thead>\n",
       "    <tr style=\"text-align: right;\">\n",
       "      <th></th>\n",
       "      <th>install</th>\n",
       "      <th>Time_stamp</th>\n",
       "      <th>Game_Name</th>\n",
       "      <th>Status</th>\n",
       "      <th>Payment</th>\n",
       "      <th>Customer_ID</th>\n",
       "      <th>date</th>\n",
       "      <th>install_date</th>\n",
       "      <th>play_date</th>\n",
       "    </tr>\n",
       "    <tr>\n",
       "      <th>type</th>\n",
       "      <th></th>\n",
       "      <th></th>\n",
       "      <th></th>\n",
       "      <th></th>\n",
       "      <th></th>\n",
       "      <th></th>\n",
       "      <th></th>\n",
       "      <th></th>\n",
       "      <th></th>\n",
       "    </tr>\n",
       "  </thead>\n",
       "  <tbody>\n",
       "    <tr>\n",
       "      <th>Existing</th>\n",
       "      <td>2022-01-08</td>\n",
       "      <td>2022-02-05</td>\n",
       "      <td>MineGround</td>\n",
       "      <td>play</td>\n",
       "      <td>4900</td>\n",
       "      <td>facilis140</td>\n",
       "      <td>2022-02</td>\n",
       "      <td>2022-01</td>\n",
       "      <td>2022-02</td>\n",
       "    </tr>\n",
       "    <tr>\n",
       "      <th>Existing</th>\n",
       "      <td>2022-01-05</td>\n",
       "      <td>2022-02-17</td>\n",
       "      <td>MineGround</td>\n",
       "      <td>play</td>\n",
       "      <td>29900</td>\n",
       "      <td>debitis994</td>\n",
       "      <td>2022-02</td>\n",
       "      <td>2022-01</td>\n",
       "      <td>2022-02</td>\n",
       "    </tr>\n",
       "    <tr>\n",
       "      <th>Existing</th>\n",
       "      <td>2022-01-29</td>\n",
       "      <td>2022-02-06</td>\n",
       "      <td>MineGround</td>\n",
       "      <td>play</td>\n",
       "      <td>4900</td>\n",
       "      <td>possimus246</td>\n",
       "      <td>2022-02</td>\n",
       "      <td>2022-01</td>\n",
       "      <td>2022-02</td>\n",
       "    </tr>\n",
       "    <tr>\n",
       "      <th>Existing</th>\n",
       "      <td>2022-01-09</td>\n",
       "      <td>2022-02-05</td>\n",
       "      <td>MineGround</td>\n",
       "      <td>play</td>\n",
       "      <td>900</td>\n",
       "      <td>occaecati138</td>\n",
       "      <td>2022-02</td>\n",
       "      <td>2022-01</td>\n",
       "      <td>2022-02</td>\n",
       "    </tr>\n",
       "    <tr>\n",
       "      <th>Existing</th>\n",
       "      <td>2022-01-08</td>\n",
       "      <td>2022-02-01</td>\n",
       "      <td>MineGround</td>\n",
       "      <td>play</td>\n",
       "      <td>900</td>\n",
       "      <td>corrupti325</td>\n",
       "      <td>2022-02</td>\n",
       "      <td>2022-01</td>\n",
       "      <td>2022-02</td>\n",
       "    </tr>\n",
       "    <tr>\n",
       "      <th>...</th>\n",
       "      <td>...</td>\n",
       "      <td>...</td>\n",
       "      <td>...</td>\n",
       "      <td>...</td>\n",
       "      <td>...</td>\n",
       "      <td>...</td>\n",
       "      <td>...</td>\n",
       "      <td>...</td>\n",
       "      <td>...</td>\n",
       "    </tr>\n",
       "    <tr>\n",
       "      <th>New Player</th>\n",
       "      <td>2022-03-06</td>\n",
       "      <td>2022-03-11</td>\n",
       "      <td>SoccerManager</td>\n",
       "      <td>play</td>\n",
       "      <td>0</td>\n",
       "      <td>sed821</td>\n",
       "      <td>2022-03</td>\n",
       "      <td>2022-03</td>\n",
       "      <td>2022-03</td>\n",
       "    </tr>\n",
       "    <tr>\n",
       "      <th>New Player</th>\n",
       "      <td>2022-03-20</td>\n",
       "      <td>2022-03-23</td>\n",
       "      <td>SoccerManager</td>\n",
       "      <td>play</td>\n",
       "      <td>0</td>\n",
       "      <td>minima581</td>\n",
       "      <td>2022-03</td>\n",
       "      <td>2022-03</td>\n",
       "      <td>2022-03</td>\n",
       "    </tr>\n",
       "    <tr>\n",
       "      <th>New Player</th>\n",
       "      <td>2022-03-25</td>\n",
       "      <td>2022-03-27</td>\n",
       "      <td>SoccerManager</td>\n",
       "      <td>play</td>\n",
       "      <td>0</td>\n",
       "      <td>harum162</td>\n",
       "      <td>2022-03</td>\n",
       "      <td>2022-03</td>\n",
       "      <td>2022-03</td>\n",
       "    </tr>\n",
       "    <tr>\n",
       "      <th>New Player</th>\n",
       "      <td>2022-03-15</td>\n",
       "      <td>2022-03-18</td>\n",
       "      <td>SoccerManager</td>\n",
       "      <td>play</td>\n",
       "      <td>0</td>\n",
       "      <td>eveniet498</td>\n",
       "      <td>2022-03</td>\n",
       "      <td>2022-03</td>\n",
       "      <td>2022-03</td>\n",
       "    </tr>\n",
       "    <tr>\n",
       "      <th>New Player</th>\n",
       "      <td>2022-03-12</td>\n",
       "      <td>2022-03-17</td>\n",
       "      <td>SoccerManager</td>\n",
       "      <td>play</td>\n",
       "      <td>0</td>\n",
       "      <td>quis906</td>\n",
       "      <td>2022-03</td>\n",
       "      <td>2022-03</td>\n",
       "      <td>2022-03</td>\n",
       "    </tr>\n",
       "  </tbody>\n",
       "</table>\n",
       "<p>84821 rows × 9 columns</p>\n",
       "</div>"
      ],
      "text/plain": [
       "               install  Time_stamp      Game_Name Status  Payment  \\\n",
       "type                                                                \n",
       "Existing    2022-01-08  2022-02-05     MineGround   play     4900   \n",
       "Existing    2022-01-05  2022-02-17     MineGround   play    29900   \n",
       "Existing    2022-01-29  2022-02-06     MineGround   play     4900   \n",
       "Existing    2022-01-09  2022-02-05     MineGround   play      900   \n",
       "Existing    2022-01-08  2022-02-01     MineGround   play      900   \n",
       "...                ...         ...            ...    ...      ...   \n",
       "New Player  2022-03-06  2022-03-11  SoccerManager   play        0   \n",
       "New Player  2022-03-20  2022-03-23  SoccerManager   play        0   \n",
       "New Player  2022-03-25  2022-03-27  SoccerManager   play        0   \n",
       "New Player  2022-03-15  2022-03-18  SoccerManager   play        0   \n",
       "New Player  2022-03-12  2022-03-17  SoccerManager   play        0   \n",
       "\n",
       "             Customer_ID     date install_date play_date  \n",
       "type                                                      \n",
       "Existing      facilis140  2022-02      2022-01   2022-02  \n",
       "Existing      debitis994  2022-02      2022-01   2022-02  \n",
       "Existing     possimus246  2022-02      2022-01   2022-02  \n",
       "Existing    occaecati138  2022-02      2022-01   2022-02  \n",
       "Existing     corrupti325  2022-02      2022-01   2022-02  \n",
       "...                  ...      ...          ...       ...  \n",
       "New Player        sed821  2022-03      2022-03   2022-03  \n",
       "New Player     minima581  2022-03      2022-03   2022-03  \n",
       "New Player      harum162  2022-03      2022-03   2022-03  \n",
       "New Player    eveniet498  2022-03      2022-03   2022-03  \n",
       "New Player       quis906  2022-03      2022-03   2022-03  \n",
       "\n",
       "[84821 rows x 9 columns]"
      ]
     },
     "execution_count": 29,
     "metadata": {},
     "output_type": "execute_result"
    }
   ],
   "source": [
    "# player_date의 인덱스를 type으로 지정하기\n",
    "payment_data = player_data.set_index('type', drop=True)\n",
    "payment_data"
   ]
  },
  {
   "cell_type": "markdown",
   "id": "1f62b03c",
   "metadata": {},
   "source": [
    "데이터에서 기존 고객은 삭제하고, 신규 고객만 남겨보겠습니다. <br> drop() 함수를 사용해 인덱스에서 Existing을 삭제하면 됩니다."
   ]
  },
  {
   "cell_type": "code",
   "execution_count": 31,
   "id": "f9aaf849",
   "metadata": {},
   "outputs": [
    {
     "data": {
      "text/html": [
       "<div>\n",
       "<style scoped>\n",
       "    .dataframe tbody tr th:only-of-type {\n",
       "        vertical-align: middle;\n",
       "    }\n",
       "\n",
       "    .dataframe tbody tr th {\n",
       "        vertical-align: top;\n",
       "    }\n",
       "\n",
       "    .dataframe thead th {\n",
       "        text-align: right;\n",
       "    }\n",
       "</style>\n",
       "<table border=\"1\" class=\"dataframe\">\n",
       "  <thead>\n",
       "    <tr style=\"text-align: right;\">\n",
       "      <th></th>\n",
       "      <th>install</th>\n",
       "      <th>Time_stamp</th>\n",
       "      <th>Game_Name</th>\n",
       "      <th>Status</th>\n",
       "      <th>Payment</th>\n",
       "      <th>Customer_ID</th>\n",
       "      <th>date</th>\n",
       "      <th>install_date</th>\n",
       "      <th>play_date</th>\n",
       "    </tr>\n",
       "    <tr>\n",
       "      <th>type</th>\n",
       "      <th></th>\n",
       "      <th></th>\n",
       "      <th></th>\n",
       "      <th></th>\n",
       "      <th></th>\n",
       "      <th></th>\n",
       "      <th></th>\n",
       "      <th></th>\n",
       "      <th></th>\n",
       "    </tr>\n",
       "  </thead>\n",
       "  <tbody>\n",
       "    <tr>\n",
       "      <th>New Player</th>\n",
       "      <td>2022-02-06</td>\n",
       "      <td>2022-02-11</td>\n",
       "      <td>MineGround</td>\n",
       "      <td>play</td>\n",
       "      <td>9900</td>\n",
       "      <td>dolorum016</td>\n",
       "      <td>2022-02</td>\n",
       "      <td>2022-02</td>\n",
       "      <td>2022-02</td>\n",
       "    </tr>\n",
       "    <tr>\n",
       "      <th>New Player</th>\n",
       "      <td>2022-02-16</td>\n",
       "      <td>2022-02-17</td>\n",
       "      <td>MineGround</td>\n",
       "      <td>play</td>\n",
       "      <td>49900</td>\n",
       "      <td>qui798</td>\n",
       "      <td>2022-02</td>\n",
       "      <td>2022-02</td>\n",
       "      <td>2022-02</td>\n",
       "    </tr>\n",
       "    <tr>\n",
       "      <th>New Player</th>\n",
       "      <td>2022-02-07</td>\n",
       "      <td>2022-02-08</td>\n",
       "      <td>MineGround</td>\n",
       "      <td>play</td>\n",
       "      <td>900</td>\n",
       "      <td>nesciunt993</td>\n",
       "      <td>2022-02</td>\n",
       "      <td>2022-02</td>\n",
       "      <td>2022-02</td>\n",
       "    </tr>\n",
       "    <tr>\n",
       "      <th>New Player</th>\n",
       "      <td>2022-02-03</td>\n",
       "      <td>2022-02-08</td>\n",
       "      <td>MineGround</td>\n",
       "      <td>play</td>\n",
       "      <td>900</td>\n",
       "      <td>ratione752</td>\n",
       "      <td>2022-02</td>\n",
       "      <td>2022-02</td>\n",
       "      <td>2022-02</td>\n",
       "    </tr>\n",
       "    <tr>\n",
       "      <th>New Player</th>\n",
       "      <td>2022-02-03</td>\n",
       "      <td>2022-02-06</td>\n",
       "      <td>MineGround</td>\n",
       "      <td>play</td>\n",
       "      <td>900</td>\n",
       "      <td>ullam478</td>\n",
       "      <td>2022-02</td>\n",
       "      <td>2022-02</td>\n",
       "      <td>2022-02</td>\n",
       "    </tr>\n",
       "  </tbody>\n",
       "</table>\n",
       "</div>"
      ],
      "text/plain": [
       "               install  Time_stamp   Game_Name Status  Payment  Customer_ID  \\\n",
       "type                                                                          \n",
       "New Player  2022-02-06  2022-02-11  MineGround   play     9900   dolorum016   \n",
       "New Player  2022-02-16  2022-02-17  MineGround   play    49900       qui798   \n",
       "New Player  2022-02-07  2022-02-08  MineGround   play      900  nesciunt993   \n",
       "New Player  2022-02-03  2022-02-08  MineGround   play      900   ratione752   \n",
       "New Player  2022-02-03  2022-02-06  MineGround   play      900     ullam478   \n",
       "\n",
       "               date install_date play_date  \n",
       "type                                        \n",
       "New Player  2022-02      2022-02   2022-02  \n",
       "New Player  2022-02      2022-02   2022-02  \n",
       "New Player  2022-02      2022-02   2022-02  \n",
       "New Player  2022-02      2022-02   2022-02  \n",
       "New Player  2022-02      2022-02   2022-02  "
      ]
     },
     "execution_count": 31,
     "metadata": {},
     "output_type": "execute_result"
    }
   ],
   "source": [
    "# 인덱스에서 Existing을 삭제하고 신규 고객들만 남기기\n",
    "payment_data.drop('Existing', inplace=True)\n",
    "payment_data.head()"
   ]
  },
  {
   "cell_type": "markdown",
   "id": "311d5568",
   "metadata": {},
   "source": [
    "신규 고객 중 결제 이력이 있는 고객만 남깁니다.<br>\n",
    "이를 위해 payment_data의 인덱스를 Payment로 지정하고, 인덱스에서 0을 삭제해야 합니다.<br>\n",
    "그 후 인덱스를 리셋해서 다시 payment 열을 본래의 데이터프레임으로 포함시켜줍니다.<br>\n",
    "만약 인덱스를 리셋하지 않으면 payment 열을 사용할 수 없게 됩니다."
   ]
  },
  {
   "cell_type": "code",
   "execution_count": 32,
   "id": "91f2cbab",
   "metadata": {},
   "outputs": [
    {
     "data": {
      "text/html": [
       "<div>\n",
       "<style scoped>\n",
       "    .dataframe tbody tr th:only-of-type {\n",
       "        vertical-align: middle;\n",
       "    }\n",
       "\n",
       "    .dataframe tbody tr th {\n",
       "        vertical-align: top;\n",
       "    }\n",
       "\n",
       "    .dataframe thead th {\n",
       "        text-align: right;\n",
       "    }\n",
       "</style>\n",
       "<table border=\"1\" class=\"dataframe\">\n",
       "  <thead>\n",
       "    <tr style=\"text-align: right;\">\n",
       "      <th></th>\n",
       "      <th>Payment</th>\n",
       "      <th>install</th>\n",
       "      <th>Time_stamp</th>\n",
       "      <th>Game_Name</th>\n",
       "      <th>Status</th>\n",
       "      <th>Customer_ID</th>\n",
       "      <th>date</th>\n",
       "      <th>install_date</th>\n",
       "      <th>play_date</th>\n",
       "    </tr>\n",
       "  </thead>\n",
       "  <tbody>\n",
       "    <tr>\n",
       "      <th>0</th>\n",
       "      <td>9900</td>\n",
       "      <td>2022-02-06</td>\n",
       "      <td>2022-02-11</td>\n",
       "      <td>MineGround</td>\n",
       "      <td>play</td>\n",
       "      <td>dolorum016</td>\n",
       "      <td>2022-02</td>\n",
       "      <td>2022-02</td>\n",
       "      <td>2022-02</td>\n",
       "    </tr>\n",
       "    <tr>\n",
       "      <th>1</th>\n",
       "      <td>49900</td>\n",
       "      <td>2022-02-16</td>\n",
       "      <td>2022-02-17</td>\n",
       "      <td>MineGround</td>\n",
       "      <td>play</td>\n",
       "      <td>qui798</td>\n",
       "      <td>2022-02</td>\n",
       "      <td>2022-02</td>\n",
       "      <td>2022-02</td>\n",
       "    </tr>\n",
       "    <tr>\n",
       "      <th>2</th>\n",
       "      <td>900</td>\n",
       "      <td>2022-02-07</td>\n",
       "      <td>2022-02-08</td>\n",
       "      <td>MineGround</td>\n",
       "      <td>play</td>\n",
       "      <td>nesciunt993</td>\n",
       "      <td>2022-02</td>\n",
       "      <td>2022-02</td>\n",
       "      <td>2022-02</td>\n",
       "    </tr>\n",
       "    <tr>\n",
       "      <th>3</th>\n",
       "      <td>900</td>\n",
       "      <td>2022-02-03</td>\n",
       "      <td>2022-02-08</td>\n",
       "      <td>MineGround</td>\n",
       "      <td>play</td>\n",
       "      <td>ratione752</td>\n",
       "      <td>2022-02</td>\n",
       "      <td>2022-02</td>\n",
       "      <td>2022-02</td>\n",
       "    </tr>\n",
       "    <tr>\n",
       "      <th>4</th>\n",
       "      <td>900</td>\n",
       "      <td>2022-02-03</td>\n",
       "      <td>2022-02-06</td>\n",
       "      <td>MineGround</td>\n",
       "      <td>play</td>\n",
       "      <td>ullam478</td>\n",
       "      <td>2022-02</td>\n",
       "      <td>2022-02</td>\n",
       "      <td>2022-02</td>\n",
       "    </tr>\n",
       "    <tr>\n",
       "      <th>...</th>\n",
       "      <td>...</td>\n",
       "      <td>...</td>\n",
       "      <td>...</td>\n",
       "      <td>...</td>\n",
       "      <td>...</td>\n",
       "      <td>...</td>\n",
       "      <td>...</td>\n",
       "      <td>...</td>\n",
       "      <td>...</td>\n",
       "    </tr>\n",
       "    <tr>\n",
       "      <th>5035</th>\n",
       "      <td>9900</td>\n",
       "      <td>2022-03-21</td>\n",
       "      <td>2022-03-25</td>\n",
       "      <td>SoccerManager</td>\n",
       "      <td>play</td>\n",
       "      <td>a329</td>\n",
       "      <td>2022-03</td>\n",
       "      <td>2022-03</td>\n",
       "      <td>2022-03</td>\n",
       "    </tr>\n",
       "    <tr>\n",
       "      <th>5036</th>\n",
       "      <td>9900</td>\n",
       "      <td>2022-03-18</td>\n",
       "      <td>2022-03-20</td>\n",
       "      <td>SoccerManager</td>\n",
       "      <td>play</td>\n",
       "      <td>dignissimos737</td>\n",
       "      <td>2022-03</td>\n",
       "      <td>2022-03</td>\n",
       "      <td>2022-03</td>\n",
       "    </tr>\n",
       "    <tr>\n",
       "      <th>5037</th>\n",
       "      <td>900</td>\n",
       "      <td>2022-03-17</td>\n",
       "      <td>2022-03-20</td>\n",
       "      <td>SoccerManager</td>\n",
       "      <td>play</td>\n",
       "      <td>sequi289</td>\n",
       "      <td>2022-03</td>\n",
       "      <td>2022-03</td>\n",
       "      <td>2022-03</td>\n",
       "    </tr>\n",
       "    <tr>\n",
       "      <th>5038</th>\n",
       "      <td>4900</td>\n",
       "      <td>2022-03-13</td>\n",
       "      <td>2022-03-16</td>\n",
       "      <td>SoccerManager</td>\n",
       "      <td>play</td>\n",
       "      <td>delectus499</td>\n",
       "      <td>2022-03</td>\n",
       "      <td>2022-03</td>\n",
       "      <td>2022-03</td>\n",
       "    </tr>\n",
       "    <tr>\n",
       "      <th>5039</th>\n",
       "      <td>4900</td>\n",
       "      <td>2022-03-20</td>\n",
       "      <td>2022-03-25</td>\n",
       "      <td>SoccerManager</td>\n",
       "      <td>play</td>\n",
       "      <td>sed697</td>\n",
       "      <td>2022-03</td>\n",
       "      <td>2022-03</td>\n",
       "      <td>2022-03</td>\n",
       "    </tr>\n",
       "  </tbody>\n",
       "</table>\n",
       "<p>5040 rows × 9 columns</p>\n",
       "</div>"
      ],
      "text/plain": [
       "      Payment     install  Time_stamp      Game_Name Status     Customer_ID  \\\n",
       "0        9900  2022-02-06  2022-02-11     MineGround   play      dolorum016   \n",
       "1       49900  2022-02-16  2022-02-17     MineGround   play          qui798   \n",
       "2         900  2022-02-07  2022-02-08     MineGround   play     nesciunt993   \n",
       "3         900  2022-02-03  2022-02-08     MineGround   play      ratione752   \n",
       "4         900  2022-02-03  2022-02-06     MineGround   play        ullam478   \n",
       "...       ...         ...         ...            ...    ...             ...   \n",
       "5035     9900  2022-03-21  2022-03-25  SoccerManager   play            a329   \n",
       "5036     9900  2022-03-18  2022-03-20  SoccerManager   play  dignissimos737   \n",
       "5037      900  2022-03-17  2022-03-20  SoccerManager   play        sequi289   \n",
       "5038     4900  2022-03-13  2022-03-16  SoccerManager   play     delectus499   \n",
       "5039     4900  2022-03-20  2022-03-25  SoccerManager   play          sed697   \n",
       "\n",
       "         date install_date play_date  \n",
       "0     2022-02      2022-02   2022-02  \n",
       "1     2022-02      2022-02   2022-02  \n",
       "2     2022-02      2022-02   2022-02  \n",
       "3     2022-02      2022-02   2022-02  \n",
       "4     2022-02      2022-02   2022-02  \n",
       "...       ...          ...       ...  \n",
       "5035  2022-03      2022-03   2022-03  \n",
       "5036  2022-03      2022-03   2022-03  \n",
       "5037  2022-03      2022-03   2022-03  \n",
       "5038  2022-03      2022-03   2022-03  \n",
       "5039  2022-03      2022-03   2022-03  \n",
       "\n",
       "[5040 rows x 9 columns]"
      ]
     },
     "execution_count": 32,
     "metadata": {},
     "output_type": "execute_result"
    }
   ],
   "source": [
    "# payment_data의 인덱스를 Payment로 지정하기\n",
    "payment_data = payment_data.set_index('Payment')\n",
    "\n",
    "# Payment_data의 인덱스에서 0을 삭제하고 결제 이력이 있는 고객만 남기기\n",
    "payment_data.drop(0, inplace=True)\n",
    "payment_data = payment_data.reset_index()\n",
    "\n",
    "payment_data"
   ]
  },
  {
   "cell_type": "markdown",
   "id": "e90ab56a",
   "metadata": {},
   "source": [
    "이제 신규 고객의 결제 이력을 월별로 구분하고, 구분된 월별 데이터를 하나로 합쳐 줍니다."
   ]
  },
  {
   "cell_type": "code",
   "execution_count": 33,
   "id": "413719eb",
   "metadata": {},
   "outputs": [
    {
     "data": {
      "text/plain": [
       "array([array([ 9900, 49900,   900, ...,   900,  9900,  4900]),\n",
       "       array([  900,  4900, 29900, ...,   900,  4900,  4900])],\n",
       "      dtype=object)"
      ]
     },
     "execution_count": 33,
     "metadata": {},
     "output_type": "execute_result"
    }
   ],
   "source": [
    "# 고객의 결제이력을 월별로 구분하기\n",
    "payment_data_02 = payment_data.set_index('play_date').loc['2022-02'].Payment.values\n",
    "payment_data_03 = payment_data.set_index('play_date').loc['2022-03'].Payment.values\n",
    "\n",
    "# payment_data_02\n",
    "# payment_data_03\n",
    "\n",
    "# 월별 데이터를 하나로 합치기\n",
    "total_payment = np.array([payment_data_02, payment_data_03],dtype=object,)\n",
    "\n",
    "total_payment"
   ]
  },
  {
   "cell_type": "markdown",
   "id": "60589058",
   "metadata": {},
   "source": [
    "<h4>마지막으로 신규 고객들의 결제이력을 히스토그램으로 그려 봅시다.<br></h4>\n",
    "\n",
    "히스토그램의 x축 간격은 보통 자동으로 설정됩니다.<br>\n",
    "하지만 우리가 히스토그램을 그릴때 사용하는 데이터인 고객의 결제는<br>\n",
    "작게는 900원, 많게는 49,900원까지 그 간격 차이가 크게 납니다.<br>\n",
    "따라서 우리들은 numpy라이브러리의 linspace() 함수를 사용해 x축의 간격을 설정하도록 하겠습니다.\n"
   ]
  },
  {
   "cell_type": "code",
   "execution_count": 35,
   "id": "9cb65020",
   "metadata": {},
   "outputs": [
    {
     "data": {
      "image/png": "[encoded data removed]",
      "text/plain": [
       "<Figure size 640x480 with 1 Axes>"
      ]
     },
     "metadata": {},
     "output_type": "display_data"
    }
   ],
   "source": [
    "# 신규 고객들의 결제이력을 히스토그램으로 그리기\n",
    "bins = np.linspace(0, 50000, 10)                      # 0에서 시작해서 50,000까지 10의 간격으로 x축을 설정합니다.\n",
    "plt.xlabel(\"Payments\")\n",
    "plt.ylabel(\"Count\")\n",
    "plt.hist(total_payment, bins, label=['2022-02', '2022-03'])\n",
    "plt.title(\"New Player Payment Histogram\", fontsize=15)\n",
    "plt.legend()\n",
    "plt.show()"
   ]
  },
  {
   "cell_type": "markdown",
   "id": "10f918d8",
   "metadata": {},
   "source": [
    "<h1> Project 기존 고객들의 결제 건수를 확인해보도록 합시다.</h1>\n"
   ]
  },
  {
   "cell_type": "code",
   "execution_count": 37,
   "id": "768925f7",
   "metadata": {},
   "outputs": [
    {
     "data": {
      "image/png": "[encoded data removed]",
      "text/plain": [
       "<Figure size 640x480 with 1 Axes>"
      ]
     },
     "metadata": {},
     "output_type": "display_data"
    }
   ],
   "source": [
    "# player_date의 인덱스를 type으로 지정하기\n",
    "existing_payment_data = player_data.set_index('type', drop=True)\n",
    "# existing_payment_data\n",
    "\n",
    "# 인덱스에서 New_player을 삭제하고 기존 고객들만 남기기\n",
    "existing_payment_data.drop('New Player', inplace=True)\n",
    "# existing_payment_data.head()\n",
    "\n",
    "# payment_data의 인덱스를 Payment로 지정하기\n",
    "existing_payment_data = existing_payment_data.set_index('Payment')\n",
    "\n",
    "# Payment_data의 인덱스에서 0을 삭제하고 결제 이력이 있는 고객만 남기기\n",
    "existing_payment_data.drop(0, inplace=True)\n",
    "existing_payment_data = existing_payment_data.reset_index()\n",
    "\n",
    "# 고객의 결제이력을 월별로 구분하기\n",
    "payment_data_02 = existing_payment_data.set_index('play_date').loc['2022-02'].Payment.values\n",
    "payment_data_03 = existing_payment_data.set_index('play_date').loc['2022-03'].Payment.values\n",
    "# payment_data_02\n",
    "# payment_data_03\n",
    "\n",
    "# 월별 데이터를 하나로 합치기\n",
    "total_payment = np.array([payment_data_02, payment_data_03],dtype=object,)\n",
    "# total_payment\n",
    "\n",
    "# 기존 고객들의 결제이력을 히스토그램으로 그리기\n",
    "bins = np.linspace(900, 50000, 10) \n",
    "plt.xlabel(\"Payments\")\n",
    "plt.ylabel(\"Count\")\n",
    "plt.hist(total_payment, bins, label=['2022-02', '2022-03'])\n",
    "plt.title(\"Existing Player Payment Histogram\", fontsize=15)\n",
    "plt.legend() # 범주\n",
    "plt.show()\n"
   ]
  },
  {
   "cell_type": "markdown",
   "id": "2716db92",
   "metadata": {},
   "source": [
    "기존 고객의 경우 소액대 결제금액은 줄었지만 30,000원 이상이 되는 구간부터는 오히려 결제건수가 늘었네요.\n",
    "\n",
    "**2) 전략 수립 및 실행**\n",
    "\n",
    "고객수는 증가했지만 총 매출액은 감소하고 있다.<br>\n",
    "그러나 게임을 새로 인스톨한 고객이 증가했을 뿐, 매출에 도움이 되는 플레이 고객은 줄어들었다.<br>\n",
    "특히 각 게임 모두 결제 건수와 결제 금액이 줄어들었다.<br>\n",
    "반면 기존 고객들의 결제 현황은 변화가 없었으나, 신규 고객들의 결제 금액은 현저히 줄어들었다.<br>\n",
    "이상의 사실을 근거로 판단해볼 때, 신규 고객의 결제가 줄어 우리 기업의 매출액이 줄어들었다는 것을 확인할 수 있었습니다.<br>\n",
    "이제 이 결과를 바탕으로 매출액을 다시 끌어올리기 위한 전략을 수립해봅시다.<br>\n",
    "\n",
    "원인을 찾았으니 이제 해결해야죠!<br>\n",
    "우선 타겟은 신규 고객과 기존 고객으로 나누어집니다.<br>\n",
    "\n",
    "신규 고객의 경우 줄어들고 있는 플레이 고객의 수를 확보하는 것이 중요합니다.<br>\n",
    "또 월별 소액결제 차이가 상대적으로 심하게 발생하고 있죠.<br>\n",
    "따라서 소액결제를 통해 얻을 수 있는 혜택을 늘리는 한편,<br>\n",
    "신규 고객을 끌어모으기 위한 컨셉의 광고를 수행할 필요가 있을 것 같아요.<br>\n",
    "유명 연예인이 등장하는 광고 전략이 좋겠습니다.<br>\n",
    "\n",
    "반면 기존 고객의 경우 소액결제가 줄어든 측면도 있지만 고액 결제 부분이 더 눈에 띕니다. 오히려 증가했으니까요.<br>\n",
    "기존 고객들에게는 게임에 대한 관심을 환기하고 과금 규모를 조금 더 늘릴 수 있는 게임 내 이벤트를 수행하는게 좋을 것 같습니다.<br>"
   ]
  },
  {
   "cell_type": "code",
   "execution_count": null,
   "id": "9e3fe2ac",
   "metadata": {},
   "outputs": [],
   "source": []
  }
 ],
 "metadata": {
  "kernelspec": {
   "display_name": "Python 3 (ipykernel)",
   "language": "python",
   "name": "python3"
  },
  "language_info": {
   "codemirror_mode": {
    "name": "ipython",
    "version": 3
   },
   "file_extension": ".py",
   "mimetype": "text/x-python",
   "name": "python",
   "nbconvert_exporter": "python",
   "pygments_lexer": "ipython3",
   "version": "3.9.7"
  }
 },
 "nbformat": 4,
 "nbformat_minor": 5
}
