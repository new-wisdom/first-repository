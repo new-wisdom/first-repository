{
 "cells": [
  {
   "cell_type": "code",
   "execution_count": null,
   "id": "2853ca60",
   "metadata": {},
   "outputs": [],
   "source": [
    "9-8. Folium를 활용한 공간 데이터 시각화"
   ]
  }
 ],
 "metadata": {
  "kernelspec": {
   "display_name": "Python 3 (ipykernel)",
   "language": "python",
   "name": "python3"
  },
  "language_info": {
   "codemirror_mode": {
    "name": "ipython",
    "version": 3
   },
   "file_extension": ".py",
   "mimetype": "text/x-python",
   "name": "python",
   "nbconvert_exporter": "python",
   "pygments_lexer": "ipython3",
   "version": "3.9.7"
  }
 },
 "nbformat": 4,
 "nbformat_minor": 5
}
