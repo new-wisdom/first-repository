{
 "cells": [
  {
   "cell_type": "markdown",
   "id": "ee319010",
   "metadata": {},
   "source": [
    "230822 노드복습"
   ]
  },
  {
   "cell_type": "code",
   "execution_count": 2,
   "id": "c32d53f0",
   "metadata": {},
   "outputs": [],
   "source": [
    "path='/aiffel/aiffel/data_analysis_basic/data/'"
   ]
  },
  {
   "cell_type": "code",
   "execution_count": 3,
   "id": "16f16be5",
   "metadata": {},
   "outputs": [
    {
     "data": {
      "text/html": [
       "<div>\n",
       "<style scoped>\n",
       "    .dataframe tbody tr th:only-of-type {\n",
       "        vertical-align: middle;\n",
       "    }\n",
       "\n",
       "    .dataframe tbody tr th {\n",
       "        vertical-align: top;\n",
       "    }\n",
       "\n",
       "    .dataframe thead th {\n",
       "        text-align: right;\n",
       "    }\n",
       "</style>\n",
       "<table border=\"1\" class=\"dataframe\">\n",
       "  <thead>\n",
       "    <tr style=\"text-align: right;\">\n",
       "      <th></th>\n",
       "      <th>install</th>\n",
       "      <th>Time_stamp</th>\n",
       "      <th>Game_Name</th>\n",
       "      <th>Status</th>\n",
       "      <th>Payment</th>\n",
       "      <th>Customer_ID</th>\n",
       "    </tr>\n",
       "  </thead>\n",
       "  <tbody>\n",
       "    <tr>\n",
       "      <th>0</th>\n",
       "      <td>2022-01-08</td>\n",
       "      <td>2022-02-05</td>\n",
       "      <td>MineGround</td>\n",
       "      <td>play</td>\n",
       "      <td>4900</td>\n",
       "      <td>facilis140</td>\n",
       "    </tr>\n",
       "    <tr>\n",
       "      <th>1</th>\n",
       "      <td>2022-01-05</td>\n",
       "      <td>2022-02-17</td>\n",
       "      <td>MineGround</td>\n",
       "      <td>play</td>\n",
       "      <td>29900</td>\n",
       "      <td>debitis994</td>\n",
       "    </tr>\n",
       "    <tr>\n",
       "      <th>2</th>\n",
       "      <td>2022-01-29</td>\n",
       "      <td>2022-02-06</td>\n",
       "      <td>MineGround</td>\n",
       "      <td>play</td>\n",
       "      <td>4900</td>\n",
       "      <td>possimus246</td>\n",
       "    </tr>\n",
       "    <tr>\n",
       "      <th>3</th>\n",
       "      <td>2022-01-09</td>\n",
       "      <td>2022-02-05</td>\n",
       "      <td>MineGround</td>\n",
       "      <td>play</td>\n",
       "      <td>900</td>\n",
       "      <td>occaecati138</td>\n",
       "    </tr>\n",
       "    <tr>\n",
       "      <th>4</th>\n",
       "      <td>2022-01-08</td>\n",
       "      <td>2022-02-01</td>\n",
       "      <td>MineGround</td>\n",
       "      <td>play</td>\n",
       "      <td>900</td>\n",
       "      <td>corrupti325</td>\n",
       "    </tr>\n",
       "    <tr>\n",
       "      <th>...</th>\n",
       "      <td>...</td>\n",
       "      <td>...</td>\n",
       "      <td>...</td>\n",
       "      <td>...</td>\n",
       "      <td>...</td>\n",
       "      <td>...</td>\n",
       "    </tr>\n",
       "    <tr>\n",
       "      <th>99840</th>\n",
       "      <td>2022-03-27</td>\n",
       "      <td>2022-03-27</td>\n",
       "      <td>SoccerManager</td>\n",
       "      <td>install</td>\n",
       "      <td>0</td>\n",
       "      <td>dicta630</td>\n",
       "    </tr>\n",
       "    <tr>\n",
       "      <th>99841</th>\n",
       "      <td>2022-03-28</td>\n",
       "      <td>2022-03-28</td>\n",
       "      <td>SoccerManager</td>\n",
       "      <td>install</td>\n",
       "      <td>0</td>\n",
       "      <td>tempora976</td>\n",
       "    </tr>\n",
       "    <tr>\n",
       "      <th>99842</th>\n",
       "      <td>2022-03-26</td>\n",
       "      <td>2022-03-26</td>\n",
       "      <td>SoccerManager</td>\n",
       "      <td>install</td>\n",
       "      <td>0</td>\n",
       "      <td>iusto840</td>\n",
       "    </tr>\n",
       "    <tr>\n",
       "      <th>99843</th>\n",
       "      <td>2022-03-20</td>\n",
       "      <td>2022-03-20</td>\n",
       "      <td>SoccerManager</td>\n",
       "      <td>install</td>\n",
       "      <td>0</td>\n",
       "      <td>nemo273</td>\n",
       "    </tr>\n",
       "    <tr>\n",
       "      <th>99844</th>\n",
       "      <td>2022-03-07</td>\n",
       "      <td>2022-03-07</td>\n",
       "      <td>SoccerManager</td>\n",
       "      <td>install</td>\n",
       "      <td>0</td>\n",
       "      <td>consequatur371</td>\n",
       "    </tr>\n",
       "  </tbody>\n",
       "</table>\n",
       "<p>99845 rows × 6 columns</p>\n",
       "</div>"
      ],
      "text/plain": [
       "          install  Time_stamp      Game_Name   Status  Payment     Customer_ID\n",
       "0      2022-01-08  2022-02-05     MineGround     play     4900      facilis140\n",
       "1      2022-01-05  2022-02-17     MineGround     play    29900      debitis994\n",
       "2      2022-01-29  2022-02-06     MineGround     play     4900     possimus246\n",
       "3      2022-01-09  2022-02-05     MineGround     play      900    occaecati138\n",
       "4      2022-01-08  2022-02-01     MineGround     play      900     corrupti325\n",
       "...           ...         ...            ...      ...      ...             ...\n",
       "99840  2022-03-27  2022-03-27  SoccerManager  install        0        dicta630\n",
       "99841  2022-03-28  2022-03-28  SoccerManager  install        0      tempora976\n",
       "99842  2022-03-26  2022-03-26  SoccerManager  install        0        iusto840\n",
       "99843  2022-03-20  2022-03-20  SoccerManager  install        0         nemo273\n",
       "99844  2022-03-07  2022-03-07  SoccerManager  install        0  consequatur371\n",
       "\n",
       "[99845 rows x 6 columns]"
      ]
     },
     "execution_count": 3,
     "metadata": {},
     "output_type": "execute_result"
    }
   ],
   "source": [
    "# Pandas와 Matplotlib를 호출\n",
    "import pandas as pd\n",
    "import matplotlib.pyplot as plt\n",
    "\n",
    "# Sales Data를 변수명 SalesLog에 할당\n",
    "SalesLog = pd.read_csv('/aiffel/aiffel/data_analysis_basic/data/Sales.csv')\n",
    "SalesLog"
   ]
  },
  {
   "cell_type": "code",
   "execution_count": 4,
   "id": "e524bd8d",
   "metadata": {},
   "outputs": [
    {
     "name": "stdout",
     "output_type": "stream",
     "text": [
      "<class 'pandas.core.frame.DataFrame'>\n",
      "RangeIndex: 99845 entries, 0 to 99844\n",
      "Data columns (total 6 columns):\n",
      " #   Column       Non-Null Count  Dtype \n",
      "---  ------       --------------  ----- \n",
      " 0   install      99845 non-null  object\n",
      " 1   Time_stamp   99845 non-null  object\n",
      " 2   Game_Name    99845 non-null  object\n",
      " 3   Status       99845 non-null  object\n",
      " 4   Payment      99845 non-null  int64 \n",
      " 5   Customer_ID  99845 non-null  object\n",
      "dtypes: int64(1), object(5)\n",
      "memory usage: 4.6+ MB\n"
     ]
    }
   ],
   "source": [
    "# SalesLog 정보 확인\n",
    "SalesLog.info()"
   ]
  },
  {
   "cell_type": "markdown",
   "id": "0c6dc027",
   "metadata": {},
   "source": [
    "Sales 데이터를 살펴보니 총 여섯 개 컬럼이 발견되었습니다.\n",
    "\n",
    "고객들이 게임을 설치한 일자(install)\n",
    "최종 로그기록(Time_stamp)\n",
    "게임명(Game_Name)\n",
    "상태(Status)\n",
    "결제금액(Payment)\n",
    "유저 아이디(Customer_ID)"
   ]
  },
  {
   "cell_type": "code",
   "execution_count": 5,
   "id": "001301ef",
   "metadata": {},
   "outputs": [
    {
     "data": {
      "text/plain": [
       "144443100"
      ]
     },
     "execution_count": 5,
     "metadata": {},
     "output_type": "execute_result"
    }
   ],
   "source": [
    "# 결제된 금액 총액 계산하기\n",
    "SalesLog['Payment'].sum()"
   ]
  },
  {
   "cell_type": "code",
   "execution_count": 6,
   "id": "9a5f7444",
   "metadata": {},
   "outputs": [
    {
     "data": {
      "image/png": "[encoded data removed]",
      "text/plain": [
       "<Figure size 432x288 with 1 Axes>"
      ]
     },
     "metadata": {
      "needs_background": "light"
     },
     "output_type": "display_data"
    }
   ],
   "source": [
    "# 결제 금액을 히스토그램으로 그리기\n",
    "plt.hist(SalesLog['Payment'])\n",
    "plt.title('Sales Status')\n",
    "plt.show()"
   ]
  },
  {
   "cell_type": "markdown",
   "id": "919491ce",
   "metadata": {},
   "source": [
    "무과금을 빼고 다시 한번 히스토그램을 그려보겠습니다.\n",
    "먼저 결제금액이 0원이 아닌 경우만 골라서 \n",
    "변수 Sales에 할당한 후 히스토그램을 그려 봅시다."
   ]
  },
  {
   "cell_type": "code",
   "execution_count": 9,
   "id": "dffe9ccc",
   "metadata": {},
   "outputs": [
    {
     "data": {
      "image/png": "[encoded data removed]",
      "text/plain": [
       "<Figure size 432x288 with 1 Axes>"
      ]
     },
     "metadata": {
      "needs_background": "light"
     },
     "output_type": "display_data"
    }
   ],
   "source": [
    "# 결제금액이 0원이 아닌 경우만 골라내서 Sales 변수에 할당\n",
    "Sales = SalesLog[SalesLog['Payment']!=0]\n",
    "# Sales\n",
    "\n",
    "# 결제 금액을 히스토그램으로 그리기\n",
    "plt.hist(Sales['Payment'])\n",
    "plt.title('Sales Status only Payment')\n",
    "plt.show()"
   ]
  },
  {
   "cell_type": "markdown",
   "id": "8d39ca4f",
   "metadata": {},
   "source": [
    "이번에는 Box Plot을 통해 결제 금액의 사분위수를 확인해보겠습니다.\n",
    "describe() 함수를 사용하면 데이터의 기술 통계량을 쉽게 확인할 수 있습니다."
   ]
  },
  {
   "cell_type": "code",
   "execution_count": 10,
   "id": "4a3d6b18",
   "metadata": {},
   "outputs": [
    {
     "data": {
      "text/plain": [
       "count    15309.000000\n",
       "mean      9435.175387\n",
       "std      11897.228643\n",
       "min        900.000000\n",
       "25%        900.000000\n",
       "50%       4900.000000\n",
       "75%       9900.000000\n",
       "max      49900.000000\n",
       "Name: Payment, dtype: float64"
      ]
     },
     "execution_count": 10,
     "metadata": {},
     "output_type": "execute_result"
    }
   ],
   "source": [
    "# 결제금액의 기술통계량 확인하기\n",
    "Sales['Payment'].describe()"
   ]
  },
  {
   "cell_type": "code",
   "execution_count": 11,
   "id": "a860f864",
   "metadata": {},
   "outputs": [
    {
     "data": {
      "image/png": "[encoded data removed]",
      "text/plain": [
       "<Figure size 432x288 with 1 Axes>"
      ]
     },
     "metadata": {
      "needs_background": "light"
     },
     "output_type": "display_data"
    }
   ],
   "source": [
    "plt.boxplot(Sales['Payment'])\n",
    "plt.title('Payment Box Plot')\n",
    "plt.show()"
   ]
  },
  {
   "cell_type": "markdown",
   "id": "9f175430",
   "metadata": {},
   "source": [
    "o 두개는 이상치 (도움이 안됨)\n",
    "\n",
    "결제금액의 최솟값은 900원, IQ1(25%)값도 900원, IQ2(중위 값)값은 4,900원이군요.\n",
    "평균 결제금액은 9,435원으로 분석되었습니다. (위의 기술통계량 결과를 통해 구체적인 값을 확인할 수 있습니다.)"
   ]
  },
  {
   "cell_type": "markdown",
   "id": "57f0f977",
   "metadata": {},
   "source": [
    "최솟값과 최대값이 각각 900원과 49,990원인것을 고려하면 상대적으로 적은 금액을 결제하는 고객이 정말 많은 것 같습니다."
   ]
  },
  {
   "cell_type": "code",
   "execution_count": 17,
   "id": "ef8b111b",
   "metadata": {},
   "outputs": [
    {
     "data": {
      "text/plain": [
       "900      0.350709\n",
       "4900     0.248677\n",
       "9900     0.201581\n",
       "19900    0.100856\n",
       "29900    0.050036\n",
       "49900    0.048142\n",
       "Name: Payment, dtype: float64"
      ]
     },
     "execution_count": 17,
     "metadata": {},
     "output_type": "execute_result"
    }
   ],
   "source": [
    "Sales['Payment'].value_counts()/len(Sales['Payment'])"
   ]
  },
  {
   "cell_type": "markdown",
   "id": "4b7cf028",
   "metadata": {},
   "source": [
    "실제로 900원 결제 건수는 전체의 약 35%,\n",
    "4,900원 결제 건수는 전체의 약 24%로\n",
    "두 금액 결제 건수의 합이 전체의 약 70% 수준이나 됩니다.\n",
    "\n",
    "이번에는 월별 결제금액을 한번 확인해보겠습니다."
   ]
  },
  {
   "cell_type": "markdown",
   "id": "fde44d51",
   "metadata": {},
   "source": [
    "여기서 잠깐🤚\n",
    "월별로 결제금액을 집계하기 위해서는 groupby()라는 함수가 사용됩니다. groupby()는 pandas의 데이터프레임 중 특정 열을 기준으로 집계할 수 있습니다. 아래 코드는 순서대로 한번 읽어보면 다음과 같습니다. 'SalesLog의 Payment의 값을 SalesLog의 Month를 기준으로 집계한 값을 보여줘' 라는 의미입니다."
   ]
  },
  {
   "cell_type": "code",
   "execution_count": 18,
   "id": "7b95d18e",
   "metadata": {},
   "outputs": [
    {
     "data": {
      "text/plain": [
       "Month\n",
       "2022-02    80841800\n",
       "2022-03    63601300\n",
       "Name: Payment, dtype: int64"
      ]
     },
     "execution_count": 18,
     "metadata": {},
     "output_type": "execute_result"
    }
   ],
   "source": [
    "# SalesLog에 Month열을 만들고, 월별 날짜값을 입력(.str로 인덱싱(오브젝트만됨)/ 데이터프레임에대한 열값 지정)\n",
    "SalesLog['Month'] = SalesLog['Time_stamp'].str[:7]\n",
    "# SalesLog\n",
    "\n",
    "# 월별 결제금액 확인하기\n",
    "SalesLog['Payment'].groupby(SalesLog['Month']).sum()"
   ]
  },
  {
   "cell_type": "markdown",
   "id": "0894acca",
   "metadata": {},
   "source": [
    "2월과 3월 결제금액을 구체적으로 살펴보겠습니다\n",
    "막대 그래프를 통해 시각적으로 확인해 볼까요?"
   ]
  },
  {
   "cell_type": "code",
   "execution_count": 19,
   "id": "1cc6e3f4",
   "metadata": {},
   "outputs": [
    {
     "data": {
      "image/png": "[encoded data removed]",
      "text/plain": [
       "<Figure size 432x288 with 1 Axes>"
      ]
     },
     "metadata": {
      "needs_background": "light"
     },
     "output_type": "display_data"
    }
   ],
   "source": [
    "temp_data = SalesLog['Payment'].groupby(SalesLog['Month']).sum()\n",
    "ax = plt.bar(temp_data.index, temp_data)\n",
    "# (안에 수치적어 - label 지정/ .0f (소수점에 대한 , 숫자 중간에,))\n",
    "plt.bar_label(ax, labels=[f'{i:,}' for i in temp_data], label_type='center')\n",
    "\n",
    "# plt.bar_label(ax, labels=[f'{x:,.0f}' for x in ax.datavalues], label_type='center')\n",
    "plt.title('Payments by Month')\n",
    "plt.show()"
   ]
  },
  {
   "cell_type": "markdown",
   "id": "38d374fa",
   "metadata": {},
   "source": [
    "Sales02변수를 만들고, 2월에 결제한 데이터 할당해 봅시다. 무과금은 제외한다는 것을 잊지 마세요!"
   ]
  },
  {
   "cell_type": "code",
   "execution_count": 20,
   "id": "adc88c72",
   "metadata": {},
   "outputs": [
    {
     "data": {
      "text/html": [
       "<div>\n",
       "<style scoped>\n",
       "    .dataframe tbody tr th:only-of-type {\n",
       "        vertical-align: middle;\n",
       "    }\n",
       "\n",
       "    .dataframe tbody tr th {\n",
       "        vertical-align: top;\n",
       "    }\n",
       "\n",
       "    .dataframe thead th {\n",
       "        text-align: right;\n",
       "    }\n",
       "</style>\n",
       "<table border=\"1\" class=\"dataframe\">\n",
       "  <thead>\n",
       "    <tr style=\"text-align: right;\">\n",
       "      <th></th>\n",
       "      <th>install</th>\n",
       "      <th>Time_stamp</th>\n",
       "      <th>Game_Name</th>\n",
       "      <th>Status</th>\n",
       "      <th>Payment</th>\n",
       "      <th>Customer_ID</th>\n",
       "      <th>Month</th>\n",
       "    </tr>\n",
       "  </thead>\n",
       "  <tbody>\n",
       "    <tr>\n",
       "      <th>0</th>\n",
       "      <td>2022-01-08</td>\n",
       "      <td>2022-02-05</td>\n",
       "      <td>MineGround</td>\n",
       "      <td>play</td>\n",
       "      <td>4900</td>\n",
       "      <td>facilis140</td>\n",
       "      <td>2022-02</td>\n",
       "    </tr>\n",
       "    <tr>\n",
       "      <th>1</th>\n",
       "      <td>2022-01-05</td>\n",
       "      <td>2022-02-17</td>\n",
       "      <td>MineGround</td>\n",
       "      <td>play</td>\n",
       "      <td>29900</td>\n",
       "      <td>debitis994</td>\n",
       "      <td>2022-02</td>\n",
       "    </tr>\n",
       "    <tr>\n",
       "      <th>2</th>\n",
       "      <td>2022-01-29</td>\n",
       "      <td>2022-02-06</td>\n",
       "      <td>MineGround</td>\n",
       "      <td>play</td>\n",
       "      <td>4900</td>\n",
       "      <td>possimus246</td>\n",
       "      <td>2022-02</td>\n",
       "    </tr>\n",
       "    <tr>\n",
       "      <th>3</th>\n",
       "      <td>2022-01-09</td>\n",
       "      <td>2022-02-05</td>\n",
       "      <td>MineGround</td>\n",
       "      <td>play</td>\n",
       "      <td>900</td>\n",
       "      <td>occaecati138</td>\n",
       "      <td>2022-02</td>\n",
       "    </tr>\n",
       "    <tr>\n",
       "      <th>4</th>\n",
       "      <td>2022-01-08</td>\n",
       "      <td>2022-02-01</td>\n",
       "      <td>MineGround</td>\n",
       "      <td>play</td>\n",
       "      <td>900</td>\n",
       "      <td>corrupti325</td>\n",
       "      <td>2022-02</td>\n",
       "    </tr>\n",
       "    <tr>\n",
       "      <th>...</th>\n",
       "      <td>...</td>\n",
       "      <td>...</td>\n",
       "      <td>...</td>\n",
       "      <td>...</td>\n",
       "      <td>...</td>\n",
       "      <td>...</td>\n",
       "      <td>...</td>\n",
       "    </tr>\n",
       "    <tr>\n",
       "      <th>12168</th>\n",
       "      <td>2022-02-12</td>\n",
       "      <td>2022-02-14</td>\n",
       "      <td>SoccerManager</td>\n",
       "      <td>play</td>\n",
       "      <td>4900</td>\n",
       "      <td>quam946</td>\n",
       "      <td>2022-02</td>\n",
       "    </tr>\n",
       "    <tr>\n",
       "      <th>12169</th>\n",
       "      <td>2022-02-10</td>\n",
       "      <td>2022-02-14</td>\n",
       "      <td>SoccerManager</td>\n",
       "      <td>play</td>\n",
       "      <td>4900</td>\n",
       "      <td>commodi507</td>\n",
       "      <td>2022-02</td>\n",
       "    </tr>\n",
       "    <tr>\n",
       "      <th>12170</th>\n",
       "      <td>2022-02-16</td>\n",
       "      <td>2022-02-21</td>\n",
       "      <td>SoccerManager</td>\n",
       "      <td>play</td>\n",
       "      <td>900</td>\n",
       "      <td>rerum275</td>\n",
       "      <td>2022-02</td>\n",
       "    </tr>\n",
       "    <tr>\n",
       "      <th>12171</th>\n",
       "      <td>2022-02-16</td>\n",
       "      <td>2022-02-20</td>\n",
       "      <td>SoccerManager</td>\n",
       "      <td>play</td>\n",
       "      <td>9900</td>\n",
       "      <td>quo151</td>\n",
       "      <td>2022-02</td>\n",
       "    </tr>\n",
       "    <tr>\n",
       "      <th>12172</th>\n",
       "      <td>2022-02-07</td>\n",
       "      <td>2022-02-12</td>\n",
       "      <td>SoccerManager</td>\n",
       "      <td>play</td>\n",
       "      <td>4900</td>\n",
       "      <td>aspernatur159</td>\n",
       "      <td>2022-02</td>\n",
       "    </tr>\n",
       "  </tbody>\n",
       "</table>\n",
       "<p>8542 rows × 7 columns</p>\n",
       "</div>"
      ],
      "text/plain": [
       "          install  Time_stamp      Game_Name Status  Payment    Customer_ID  \\\n",
       "0      2022-01-08  2022-02-05     MineGround   play     4900     facilis140   \n",
       "1      2022-01-05  2022-02-17     MineGround   play    29900     debitis994   \n",
       "2      2022-01-29  2022-02-06     MineGround   play     4900    possimus246   \n",
       "3      2022-01-09  2022-02-05     MineGround   play      900   occaecati138   \n",
       "4      2022-01-08  2022-02-01     MineGround   play      900    corrupti325   \n",
       "...           ...         ...            ...    ...      ...            ...   \n",
       "12168  2022-02-12  2022-02-14  SoccerManager   play     4900        quam946   \n",
       "12169  2022-02-10  2022-02-14  SoccerManager   play     4900     commodi507   \n",
       "12170  2022-02-16  2022-02-21  SoccerManager   play      900       rerum275   \n",
       "12171  2022-02-16  2022-02-20  SoccerManager   play     9900         quo151   \n",
       "12172  2022-02-07  2022-02-12  SoccerManager   play     4900  aspernatur159   \n",
       "\n",
       "         Month  \n",
       "0      2022-02  \n",
       "1      2022-02  \n",
       "2      2022-02  \n",
       "3      2022-02  \n",
       "4      2022-02  \n",
       "...        ...  \n",
       "12168  2022-02  \n",
       "12169  2022-02  \n",
       "12170  2022-02  \n",
       "12171  2022-02  \n",
       "12172  2022-02  \n",
       "\n",
       "[8542 rows x 7 columns]"
      ]
     },
     "execution_count": 20,
     "metadata": {},
     "output_type": "execute_result"
    }
   ],
   "source": [
    "# Sales02변수를 만들고, 2월에 결제한 데이터 할당하기\n",
    "Sales02 = SalesLog[(SalesLog['Month'] == '2022-02') & (SalesLog['Payment'] != 0)]\n",
    "Sales02"
   ]
  },
  {
   "cell_type": "code",
   "execution_count": 21,
   "id": "81b1b77a",
   "metadata": {},
   "outputs": [
    {
     "data": {
      "text/html": [
       "<div>\n",
       "<style scoped>\n",
       "    .dataframe tbody tr th:only-of-type {\n",
       "        vertical-align: middle;\n",
       "    }\n",
       "\n",
       "    .dataframe tbody tr th {\n",
       "        vertical-align: top;\n",
       "    }\n",
       "\n",
       "    .dataframe thead th {\n",
       "        text-align: right;\n",
       "    }\n",
       "</style>\n",
       "<table border=\"1\" class=\"dataframe\">\n",
       "  <thead>\n",
       "    <tr style=\"text-align: right;\">\n",
       "      <th></th>\n",
       "      <th>install</th>\n",
       "      <th>Time_stamp</th>\n",
       "      <th>Game_Name</th>\n",
       "      <th>Status</th>\n",
       "      <th>Payment</th>\n",
       "      <th>Customer_ID</th>\n",
       "      <th>Month</th>\n",
       "    </tr>\n",
       "  </thead>\n",
       "  <tbody>\n",
       "    <tr>\n",
       "      <th>0</th>\n",
       "      <td>2022-01-08</td>\n",
       "      <td>2022-02-05</td>\n",
       "      <td>MineGround</td>\n",
       "      <td>play</td>\n",
       "      <td>4900</td>\n",
       "      <td>facilis140</td>\n",
       "      <td>2022-02</td>\n",
       "    </tr>\n",
       "    <tr>\n",
       "      <th>1</th>\n",
       "      <td>2022-01-05</td>\n",
       "      <td>2022-02-17</td>\n",
       "      <td>MineGround</td>\n",
       "      <td>play</td>\n",
       "      <td>29900</td>\n",
       "      <td>debitis994</td>\n",
       "      <td>2022-02</td>\n",
       "    </tr>\n",
       "    <tr>\n",
       "      <th>2</th>\n",
       "      <td>2022-01-29</td>\n",
       "      <td>2022-02-06</td>\n",
       "      <td>MineGround</td>\n",
       "      <td>play</td>\n",
       "      <td>4900</td>\n",
       "      <td>possimus246</td>\n",
       "      <td>2022-02</td>\n",
       "    </tr>\n",
       "    <tr>\n",
       "      <th>3</th>\n",
       "      <td>2022-01-09</td>\n",
       "      <td>2022-02-05</td>\n",
       "      <td>MineGround</td>\n",
       "      <td>play</td>\n",
       "      <td>900</td>\n",
       "      <td>occaecati138</td>\n",
       "      <td>2022-02</td>\n",
       "    </tr>\n",
       "    <tr>\n",
       "      <th>4</th>\n",
       "      <td>2022-01-08</td>\n",
       "      <td>2022-02-01</td>\n",
       "      <td>MineGround</td>\n",
       "      <td>play</td>\n",
       "      <td>900</td>\n",
       "      <td>corrupti325</td>\n",
       "      <td>2022-02</td>\n",
       "    </tr>\n",
       "    <tr>\n",
       "      <th>...</th>\n",
       "      <td>...</td>\n",
       "      <td>...</td>\n",
       "      <td>...</td>\n",
       "      <td>...</td>\n",
       "      <td>...</td>\n",
       "      <td>...</td>\n",
       "      <td>...</td>\n",
       "    </tr>\n",
       "    <tr>\n",
       "      <th>8537</th>\n",
       "      <td>2022-02-12</td>\n",
       "      <td>2022-02-14</td>\n",
       "      <td>SoccerManager</td>\n",
       "      <td>play</td>\n",
       "      <td>4900</td>\n",
       "      <td>quam946</td>\n",
       "      <td>2022-02</td>\n",
       "    </tr>\n",
       "    <tr>\n",
       "      <th>8538</th>\n",
       "      <td>2022-02-10</td>\n",
       "      <td>2022-02-14</td>\n",
       "      <td>SoccerManager</td>\n",
       "      <td>play</td>\n",
       "      <td>4900</td>\n",
       "      <td>commodi507</td>\n",
       "      <td>2022-02</td>\n",
       "    </tr>\n",
       "    <tr>\n",
       "      <th>8539</th>\n",
       "      <td>2022-02-16</td>\n",
       "      <td>2022-02-21</td>\n",
       "      <td>SoccerManager</td>\n",
       "      <td>play</td>\n",
       "      <td>900</td>\n",
       "      <td>rerum275</td>\n",
       "      <td>2022-02</td>\n",
       "    </tr>\n",
       "    <tr>\n",
       "      <th>8540</th>\n",
       "      <td>2022-02-16</td>\n",
       "      <td>2022-02-20</td>\n",
       "      <td>SoccerManager</td>\n",
       "      <td>play</td>\n",
       "      <td>9900</td>\n",
       "      <td>quo151</td>\n",
       "      <td>2022-02</td>\n",
       "    </tr>\n",
       "    <tr>\n",
       "      <th>8541</th>\n",
       "      <td>2022-02-07</td>\n",
       "      <td>2022-02-12</td>\n",
       "      <td>SoccerManager</td>\n",
       "      <td>play</td>\n",
       "      <td>4900</td>\n",
       "      <td>aspernatur159</td>\n",
       "      <td>2022-02</td>\n",
       "    </tr>\n",
       "  </tbody>\n",
       "</table>\n",
       "<p>8542 rows × 7 columns</p>\n",
       "</div>"
      ],
      "text/plain": [
       "         install  Time_stamp      Game_Name Status  Payment    Customer_ID  \\\n",
       "0     2022-01-08  2022-02-05     MineGround   play     4900     facilis140   \n",
       "1     2022-01-05  2022-02-17     MineGround   play    29900     debitis994   \n",
       "2     2022-01-29  2022-02-06     MineGround   play     4900    possimus246   \n",
       "3     2022-01-09  2022-02-05     MineGround   play      900   occaecati138   \n",
       "4     2022-01-08  2022-02-01     MineGround   play      900    corrupti325   \n",
       "...          ...         ...            ...    ...      ...            ...   \n",
       "8537  2022-02-12  2022-02-14  SoccerManager   play     4900        quam946   \n",
       "8538  2022-02-10  2022-02-14  SoccerManager   play     4900     commodi507   \n",
       "8539  2022-02-16  2022-02-21  SoccerManager   play      900       rerum275   \n",
       "8540  2022-02-16  2022-02-20  SoccerManager   play     9900         quo151   \n",
       "8541  2022-02-07  2022-02-12  SoccerManager   play     4900  aspernatur159   \n",
       "\n",
       "        Month  \n",
       "0     2022-02  \n",
       "1     2022-02  \n",
       "2     2022-02  \n",
       "3     2022-02  \n",
       "4     2022-02  \n",
       "...       ...  \n",
       "8537  2022-02  \n",
       "8538  2022-02  \n",
       "8539  2022-02  \n",
       "8540  2022-02  \n",
       "8541  2022-02  \n",
       "\n",
       "[8542 rows x 7 columns]"
      ]
     },
     "execution_count": 21,
     "metadata": {},
     "output_type": "execute_result"
    }
   ],
   "source": [
    "# 시각화를 위한 인덱스 정렬하기\n",
    "Sales02.reset_index(drop=True)"
   ]
  },
  {
   "cell_type": "code",
   "execution_count": 22,
   "id": "3f96b8ef",
   "metadata": {},
   "outputs": [
    {
     "data": {
      "image/png": "[encoded data removed]",
      "text/plain": [
       "<Figure size 2160x360 with 1 Axes>"
      ]
     },
     "metadata": {
      "needs_background": "light"
     },
     "output_type": "display_data"
    }
   ],
   "source": [
    "# 2월에 결제한 데이터를 날짜순으로 정렬한 후, 막대 그래프를 그려 봅시다.\n",
    "\n",
    "# le6 (Y단위에 대한 설명 Y축에서 6개의 단위가 생략되어있음)\n",
    "# Sales02변수를 만들고, 2월에 결제한 데이터 할당하기\n",
    "Sales02 = SalesLog[(SalesLog['Month'] == '2022-02') & (SalesLog['Payment'] != 0)]\n",
    "Sales02\n",
    "# 2월에 결제한 데이터 시각화하기\n",
    "temp_data = Sales02['Payment'].groupby(Sales02['Time_stamp']).sum()\n",
    "# temp_data\n",
    "plt.figure(figsize=(30,5))\n",
    "plt.bar(temp_data.index, temp_data)\n",
    "plt.title('Feb-Payments')\n",
    "plt.xticks(rotation=45) #회전\n",
    "plt.show()"
   ]
  },
  {
   "cell_type": "code",
   "execution_count": 23,
   "id": "6b69241d",
   "metadata": {},
   "outputs": [
    {
     "data": {
      "image/png": "[encoded data removed]",
      "text/plain": [
       "<Figure size 2160x360 with 1 Axes>"
      ]
     },
     "metadata": {
      "needs_background": "light"
     },
     "output_type": "display_data"
    }
   ],
   "source": [
    "# 이번에는 3월에 결제한 데이터를 시각화해봅시다. 아래의 빈칸에 코드를 작성해 보세요.\n",
    "\n",
    "# Sales03변수를 만들고, 3월에 결제한 데이터 할당하기\n",
    "Sales03 = SalesLog[(SalesLog['Month'] == '2022-03') & (SalesLog['Payment'] != 0)]\n",
    "Sales03\n",
    "\n",
    "# 시각화를 위한 인덱스 정렬하기\n",
    "# Sales03.reset_index(drop=True)\n",
    "\n",
    "# 3월에 결제한 데이터 시각화하기\n",
    "temp_data = Sales03['Payment'].groupby(Sales03['Time_stamp']).sum()\n",
    "# temp_data\n",
    "plt.figure(figsize=(30,5))\n",
    "plt.bar(temp_data.index, temp_data)\n",
    "plt.title('Feb-Payments')\n",
    "plt.xticks(rotation=45) #회전\n",
    "plt.show()"
   ]
  },
  {
   "cell_type": "markdown",
   "id": "55624a70",
   "metadata": {},
   "source": [
    "지금까지는 Sales 데이터를 살펴봤으니 Customer 데이터를 살펴보겠습니다."
   ]
  },
  {
   "cell_type": "code",
   "execution_count": 16,
   "id": "11fe5a80",
   "metadata": {},
   "outputs": [
    {
     "name": "stdout",
     "output_type": "stream",
     "text": [
      "          Customer_ID Name     Nickname  Password  \\\n",
      "0          facilis140  이영순         quos  ********   \n",
      "1          debitis994  김중수    molestiae  ********   \n",
      "2         possimus246  양은경          rem  ********   \n",
      "3        occaecati138  백도윤       libero  ********   \n",
      "4         corrupti325  김영수   temporibus  ********   \n",
      "...               ...  ...          ...       ...   \n",
      "99840        dicta630  김예지          sit  ********   \n",
      "99841      tempora976  문은경         modi  ********   \n",
      "99842        iusto840  강중수        iusto  ********   \n",
      "99843         nemo273  황정남     deleniti  ********   \n",
      "99844  consequatur371  이영식  accusantium  ********   \n",
      "\n",
      "                              Email       Birth  Gender              C.P.  \\\n",
      "0                   coejongsu@yu.kr  1989-03-11  female  01x9-4x625-x5x3x   \n",
      "1                   jiweon02@ju.org  1995-11-19    male  01x9-3x228-x3x9x   \n",
      "2           coesubin@jusighoesa.com  2005-12-24  female  01x9-7x873-x2x2x   \n",
      "3            yeongceol80@gangryu.kr  2003-02-09  female  01x9-3x519-x7x1x   \n",
      "4                   jiweon96@yu.net  2004-05-04    male  01x9-0x079-x9x2x   \n",
      "...                             ...         ...     ...               ...   \n",
      "99840           ggim@yuhanhoesa.com  1992-07-31    male  01x9-8x787-x6x7x   \n",
      "99841  gimjeongnam@gimgweonjang.com  1990-09-17    male  01x9-5x401-x0x0x   \n",
      "99842                  qu@gimgim.kr  1984-12-25  female  01x9-3x247-x9x7x   \n",
      "99843            yejun90@imubag.com  1985-05-11    male  01x9-5x324-x8x7x   \n",
      "99844        seongsu95@hwangryu.com  2000-02-18  female  01x9-5x277-x4x5x   \n",
      "\n",
      "      MobileCompany       OS  \n",
      "0               LGU      iOS  \n",
      "1                KT      iOS  \n",
      "2               LGU  Android  \n",
      "3               SKT      iOS  \n",
      "4               LGU  Android  \n",
      "...             ...      ...  \n",
      "99840           LGU      iOS  \n",
      "99841            KT  Android  \n",
      "99842           SKT      iOS  \n",
      "99843           LGU      iOS  \n",
      "99844            KT      iOS  \n",
      "\n",
      "[99845 rows x 10 columns]\n",
      "<class 'pandas.core.frame.DataFrame'>\n",
      "RangeIndex: 99845 entries, 0 to 99844\n",
      "Data columns (total 10 columns):\n",
      " #   Column         Non-Null Count  Dtype \n",
      "---  ------         --------------  ----- \n",
      " 0   Customer_ID    99845 non-null  object\n",
      " 1   Name           99845 non-null  object\n",
      " 2   Nickname       99845 non-null  object\n",
      " 3   Password       99845 non-null  object\n",
      " 4   Email          99845 non-null  object\n",
      " 5   Birth          99845 non-null  object\n",
      " 6   Gender         99845 non-null  object\n",
      " 7   C.P.           99845 non-null  object\n",
      " 8   MobileCompany  99845 non-null  object\n",
      " 9   OS             99845 non-null  object\n",
      "dtypes: object(10)\n",
      "memory usage: 7.6+ MB\n"
     ]
    }
   ],
   "source": [
    "CustomerLog = pd.read_csv('/aiffel/aiffel/data_analysis_basic/data/customer.csv')\n",
    "print(CustomerLog)\n",
    "\n",
    "CustomerLog.info()"
   ]
  },
  {
   "cell_type": "markdown",
   "id": "61713813",
   "metadata": {},
   "source": [
    "이번에는 파이그래프를 사용하려고 합니다. \n",
    "먼저 고객 성별에 따른 파이 그래프를 그려 볼게요. customer 데이터에서 'Gender' 컬럼을 groupby()사용해 성별로 묶어준 후 파이 그래프를 그립니다."
   ]
  },
  {
   "cell_type": "code",
   "execution_count": 24,
   "id": "846f2a69",
   "metadata": {},
   "outputs": [
    {
     "data": {
      "image/png": "[encoded data removed]",
      "text/plain": [
       "<Figure size 432x288 with 1 Axes>"
      ]
     },
     "metadata": {},
     "output_type": "display_data"
    }
   ],
   "source": [
    "# 고객 성별에 따른 파이그래프 그리기 (이름별로 묶기위해)\n",
    "pie_data = CustomerLog.groupby(['Gender']).count().Name\n",
    "plt.pie(pie_data, labels=pie_data.index, autopct = '%1.1f%%')\n",
    "plt.title('Customer Gender')\n",
    "plt.show()"
   ]
  },
  {
   "cell_type": "code",
   "execution_count": 25,
   "id": "7990eae8",
   "metadata": {},
   "outputs": [],
   "source": [
    "# 이번에는 고객 모바일 서비스 기업과 고객 모바일OS에 따른 파이그래프를 여러분이 그려보세요."
   ]
  },
  {
   "cell_type": "code",
   "execution_count": 26,
   "id": "510bc371",
   "metadata": {},
   "outputs": [
    {
     "data": {
      "image/png": "[encoded data removed]",
      "text/plain": [
       "<Figure size 432x288 with 1 Axes>"
      ]
     },
     "metadata": {},
     "output_type": "display_data"
    }
   ],
   "source": [
    "pie_data = CustomerLog.groupby(['MobileCompany']).count().Name\n",
    "plt.pie(pie_data, labels=pie_data.index, autopct = '%1.1f%%')\n",
    "plt.title('Customer MobileCompany')\n",
    "plt.show()"
   ]
  },
  {
   "cell_type": "code",
   "execution_count": 27,
   "id": "e05ca8ec",
   "metadata": {},
   "outputs": [
    {
     "data": {
      "image/png": "[encoded data removed]",
      "text/plain": [
       "<Figure size 432x288 with 1 Axes>"
      ]
     },
     "metadata": {},
     "output_type": "display_data"
    }
   ],
   "source": [
    "# 고객 모바일 서비스 기업에 따른 파이그래프 그리기\n",
    "\n",
    "pie_data = CustomerLog.groupby(['OS']).count().Name\n",
    "plt.pie(pie_data, labels=pie_data.index, autopct = '%1.1f%%')\n",
    "plt.title('Customer OS')\n",
    "plt.show()"
   ]
  },
  {
   "cell_type": "markdown",
   "id": "703356f7",
   "metadata": {},
   "source": [
    "이번에는 결제 경험이 있는 고객들만을 골라서 똑같은 시각화를 수행해보겠습니다.\n",
    "데이터 결합\n",
    "merge() 함수를 사용해 Customer 데이터와 Sales 데이터를 결합해 봅시다."
   ]
  },
  {
   "cell_type": "code",
   "execution_count": 28,
   "id": "0d8ea34b",
   "metadata": {},
   "outputs": [
    {
     "data": {
      "image/png": "[encoded data removed]",
      "text/plain": [
       "<Figure size 432x288 with 1 Axes>"
      ]
     },
     "metadata": {},
     "output_type": "display_data"
    }
   ],
   "source": [
    "# merge() 함수를 사용해 Customer 데이터와 Sales 데이터를 결합해 봅시다.\n",
    "# Customer 데이터와 Sales 데이터를 결합하기\n",
    "TotalData = pd.merge(CustomerLog, SalesLog)\n",
    "\n",
    "# 결제 경험이 있는 고객들만 골라내기 (무과급유저 빼고 뽑기)\n",
    "PaymentCustomer = TotalData[(TotalData[\"Payment\"] != 0)]\n",
    "\n",
    "# 결제 경험이 있는 고객 성별에 따른 파이그래프 그리기\n",
    "pie_data = PaymentCustomer.groupby(['Gender']).count().Name\n",
    "plt.pie(pie_data, labels=pie_data.index, autopct = '%1.1f%%')\n",
    "plt.title('Payment Customer Gender')\n",
    "plt.show()"
   ]
  },
  {
   "cell_type": "code",
   "execution_count": 29,
   "id": "7d17cade",
   "metadata": {},
   "outputs": [
    {
     "data": {
      "image/png": "[encoded data removed]",
      "text/plain": [
       "<Figure size 432x288 with 1 Axes>"
      ]
     },
     "metadata": {},
     "output_type": "display_data"
    }
   ],
   "source": [
    "# \"결제 경험이 있는\" 고객 모바일 서비스 기업에 따른 파이그래프 그리기\n",
    "pie_data = PaymentCustomer.groupby(['MobileCompany']).count().Name\n",
    "plt.pie(pie_data, labels=pie_data.index, autopct = '%1.1f%%')\n",
    "plt.title('Payment Customer Mobile')\n",
    "plt.show()"
   ]
  },
  {
   "cell_type": "code",
   "execution_count": 30,
   "id": "f05b4915",
   "metadata": {},
   "outputs": [
    {
     "data": {
      "image/png": "[encoded data removed]",
      "text/plain": [
       "<Figure size 432x288 with 1 Axes>"
      ]
     },
     "metadata": {},
     "output_type": "display_data"
    }
   ],
   "source": [
    "# 결제 경험이 있는 고객 모바일OS에 따른 파이그래프 그리기 \n",
    "pie_data = PaymentCustomer.groupby(['OS']).count().Name         #(이름을 기준으로 카운팅)\n",
    "plt.pie(pie_data, labels=pie_data.index, autopct = '%1.1f%%')\n",
    "plt.title('Payment Customer OS')\n",
    "plt.show()"
   ]
  },
  {
   "cell_type": "markdown",
   "id": "2f3a25ee",
   "metadata": {},
   "source": [
    "고객 성별에 따른 결제금액을 월별로 한번 관찰해보겠습니다.\n",
    "월별 고객\n",
    "이제부터는 여러분이 직접 코드를 작성해 보세요. 위에서 배운 내용을 살짝 응용하면 쉽게 하실 수 있을 거에요.\n",
    "\n",
    "먼저 월별 고객 성별에 따른 결제 금액을 확인하겠습니다. 결제 금액이 있는 고객만 추려낸 PaymentCustomer 데이터에서 'Gender'와 'Month'를 묶은 후 각 값을 합해보세요."
   ]
  },
  {
   "cell_type": "code",
   "execution_count": 31,
   "id": "34c6e170",
   "metadata": {},
   "outputs": [
    {
     "data": {
      "text/html": [
       "<div>\n",
       "<style scoped>\n",
       "    .dataframe tbody tr th:only-of-type {\n",
       "        vertical-align: middle;\n",
       "    }\n",
       "\n",
       "    .dataframe tbody tr th {\n",
       "        vertical-align: top;\n",
       "    }\n",
       "\n",
       "    .dataframe thead th {\n",
       "        text-align: right;\n",
       "    }\n",
       "</style>\n",
       "<table border=\"1\" class=\"dataframe\">\n",
       "  <thead>\n",
       "    <tr style=\"text-align: right;\">\n",
       "      <th></th>\n",
       "      <th></th>\n",
       "      <th>Payment</th>\n",
       "    </tr>\n",
       "    <tr>\n",
       "      <th>Gender</th>\n",
       "      <th>Month</th>\n",
       "      <th></th>\n",
       "    </tr>\n",
       "  </thead>\n",
       "  <tbody>\n",
       "    <tr>\n",
       "      <th rowspan=\"2\" valign=\"top\">female</th>\n",
       "      <th>2022-02</th>\n",
       "      <td>32103200</td>\n",
       "    </tr>\n",
       "    <tr>\n",
       "      <th>2022-03</th>\n",
       "      <td>25295700</td>\n",
       "    </tr>\n",
       "    <tr>\n",
       "      <th rowspan=\"2\" valign=\"top\">male</th>\n",
       "      <th>2022-02</th>\n",
       "      <td>48738600</td>\n",
       "    </tr>\n",
       "    <tr>\n",
       "      <th>2022-03</th>\n",
       "      <td>38305600</td>\n",
       "    </tr>\n",
       "  </tbody>\n",
       "</table>\n",
       "</div>"
      ],
      "text/plain": [
       "                 Payment\n",
       "Gender Month            \n",
       "female 2022-02  32103200\n",
       "       2022-03  25295700\n",
       "male   2022-02  48738600\n",
       "       2022-03  38305600"
      ]
     },
     "execution_count": 31,
     "metadata": {},
     "output_type": "execute_result"
    }
   ],
   "source": [
    "# Hint! groupyby()과 sum()을 사용해 봅시다.\n",
    "a = PaymentCustomer['Payment'].groupby([PaymentCustomer['Gender'], PaymentCustomer['Month']]).sum()\n",
    "b = pd.DataFrame(a)\n",
    "b"
   ]
  },
  {
   "cell_type": "markdown",
   "id": "9caf4a90",
   "metadata": {},
   "source": [
    "이번에는 male과 female 변수를 만들고 성별에 따라 데이터를 할당해 봅시다."
   ]
  },
  {
   "cell_type": "code",
   "execution_count": 32,
   "id": "8b0f291c",
   "metadata": {},
   "outputs": [
    {
     "data": {
      "text/html": [
       "<div>\n",
       "<style scoped>\n",
       "    .dataframe tbody tr th:only-of-type {\n",
       "        vertical-align: middle;\n",
       "    }\n",
       "\n",
       "    .dataframe tbody tr th {\n",
       "        vertical-align: top;\n",
       "    }\n",
       "\n",
       "    .dataframe thead th {\n",
       "        text-align: right;\n",
       "    }\n",
       "</style>\n",
       "<table border=\"1\" class=\"dataframe\">\n",
       "  <thead>\n",
       "    <tr style=\"text-align: right;\">\n",
       "      <th></th>\n",
       "      <th>Customer_ID</th>\n",
       "      <th>Name</th>\n",
       "      <th>Nickname</th>\n",
       "      <th>Password</th>\n",
       "      <th>Email</th>\n",
       "      <th>Birth</th>\n",
       "      <th>Gender</th>\n",
       "      <th>C.P.</th>\n",
       "      <th>MobileCompany</th>\n",
       "      <th>OS</th>\n",
       "      <th>install</th>\n",
       "      <th>Time_stamp</th>\n",
       "      <th>Game_Name</th>\n",
       "      <th>Status</th>\n",
       "      <th>Payment</th>\n",
       "      <th>Month</th>\n",
       "    </tr>\n",
       "  </thead>\n",
       "  <tbody>\n",
       "    <tr>\n",
       "      <th>1</th>\n",
       "      <td>debitis994</td>\n",
       "      <td>김중수</td>\n",
       "      <td>molestiae</td>\n",
       "      <td>********</td>\n",
       "      <td>jiweon02@ju.org</td>\n",
       "      <td>1995-11-19</td>\n",
       "      <td>male</td>\n",
       "      <td>01x9-3x228-x3x9x</td>\n",
       "      <td>KT</td>\n",
       "      <td>iOS</td>\n",
       "      <td>2022-01-05</td>\n",
       "      <td>2022-02-17</td>\n",
       "      <td>MineGround</td>\n",
       "      <td>play</td>\n",
       "      <td>29900</td>\n",
       "      <td>2022-02</td>\n",
       "    </tr>\n",
       "    <tr>\n",
       "      <th>4</th>\n",
       "      <td>corrupti325</td>\n",
       "      <td>김영수</td>\n",
       "      <td>temporibus</td>\n",
       "      <td>********</td>\n",
       "      <td>jiweon96@yu.net</td>\n",
       "      <td>2004-05-04</td>\n",
       "      <td>male</td>\n",
       "      <td>01x9-0x079-x9x2x</td>\n",
       "      <td>LGU</td>\n",
       "      <td>Android</td>\n",
       "      <td>2022-01-08</td>\n",
       "      <td>2022-02-01</td>\n",
       "      <td>MineGround</td>\n",
       "      <td>play</td>\n",
       "      <td>900</td>\n",
       "      <td>2022-02</td>\n",
       "    </tr>\n",
       "    <tr>\n",
       "      <th>5</th>\n",
       "      <td>voluptate353</td>\n",
       "      <td>이진호</td>\n",
       "      <td>eum</td>\n",
       "      <td>********</td>\n",
       "      <td>di@yu.com</td>\n",
       "      <td>1999-02-01</td>\n",
       "      <td>male</td>\n",
       "      <td>01x9-8x635-x2x4x</td>\n",
       "      <td>SKT</td>\n",
       "      <td>iOS</td>\n",
       "      <td>2022-01-15</td>\n",
       "      <td>2022-02-18</td>\n",
       "      <td>MineGround</td>\n",
       "      <td>play</td>\n",
       "      <td>4900</td>\n",
       "      <td>2022-02</td>\n",
       "    </tr>\n",
       "    <tr>\n",
       "      <th>7</th>\n",
       "      <td>temporibus711</td>\n",
       "      <td>황수민</td>\n",
       "      <td>quis</td>\n",
       "      <td>********</td>\n",
       "      <td>sumingim@munyun.com</td>\n",
       "      <td>1983-07-05</td>\n",
       "      <td>male</td>\n",
       "      <td>01x9-5x894-x1x8x</td>\n",
       "      <td>MVNO</td>\n",
       "      <td>iOS</td>\n",
       "      <td>2022-01-17</td>\n",
       "      <td>2022-02-17</td>\n",
       "      <td>MineGround</td>\n",
       "      <td>play</td>\n",
       "      <td>900</td>\n",
       "      <td>2022-02</td>\n",
       "    </tr>\n",
       "    <tr>\n",
       "      <th>9</th>\n",
       "      <td>enim234</td>\n",
       "      <td>권순옥</td>\n",
       "      <td>harum</td>\n",
       "      <td>********</td>\n",
       "      <td>eunseo52@yuhanhoesa.com</td>\n",
       "      <td>2000-12-08</td>\n",
       "      <td>male</td>\n",
       "      <td>01x9-8x650-x3x2x</td>\n",
       "      <td>SKT</td>\n",
       "      <td>Android</td>\n",
       "      <td>2022-01-13</td>\n",
       "      <td>2022-02-22</td>\n",
       "      <td>MineGround</td>\n",
       "      <td>play</td>\n",
       "      <td>19900</td>\n",
       "      <td>2022-02</td>\n",
       "    </tr>\n",
       "    <tr>\n",
       "      <th>...</th>\n",
       "      <td>...</td>\n",
       "      <td>...</td>\n",
       "      <td>...</td>\n",
       "      <td>...</td>\n",
       "      <td>...</td>\n",
       "      <td>...</td>\n",
       "      <td>...</td>\n",
       "      <td>...</td>\n",
       "      <td>...</td>\n",
       "      <td>...</td>\n",
       "      <td>...</td>\n",
       "      <td>...</td>\n",
       "      <td>...</td>\n",
       "      <td>...</td>\n",
       "      <td>...</td>\n",
       "      <td>...</td>\n",
       "    </tr>\n",
       "    <tr>\n",
       "      <th>15301</th>\n",
       "      <td>ab888</td>\n",
       "      <td>구서준</td>\n",
       "      <td>minus</td>\n",
       "      <td>********</td>\n",
       "      <td>lbag@gimbagbag.kr</td>\n",
       "      <td>1982-09-12</td>\n",
       "      <td>male</td>\n",
       "      <td>01x9-9x372-x0x4x</td>\n",
       "      <td>SKT</td>\n",
       "      <td>Android</td>\n",
       "      <td>2022-03-25</td>\n",
       "      <td>2022-03-28</td>\n",
       "      <td>SoccerManager</td>\n",
       "      <td>play</td>\n",
       "      <td>19900</td>\n",
       "      <td>2022-03</td>\n",
       "    </tr>\n",
       "    <tr>\n",
       "      <th>15302</th>\n",
       "      <td>necessitatibus192</td>\n",
       "      <td>백수민</td>\n",
       "      <td>nam</td>\n",
       "      <td>********</td>\n",
       "      <td>eunseo86@jangbag.kr</td>\n",
       "      <td>1990-12-28</td>\n",
       "      <td>male</td>\n",
       "      <td>01x9-6x726-x9x9x</td>\n",
       "      <td>SKT</td>\n",
       "      <td>iOS</td>\n",
       "      <td>2022-03-01</td>\n",
       "      <td>2022-03-02</td>\n",
       "      <td>SoccerManager</td>\n",
       "      <td>play</td>\n",
       "      <td>9900</td>\n",
       "      <td>2022-03</td>\n",
       "    </tr>\n",
       "    <tr>\n",
       "      <th>15303</th>\n",
       "      <td>quo334</td>\n",
       "      <td>이영숙</td>\n",
       "      <td>animi</td>\n",
       "      <td>********</td>\n",
       "      <td>seohyeongang@coeii.com</td>\n",
       "      <td>1986-11-15</td>\n",
       "      <td>male</td>\n",
       "      <td>01x9-9x909-x5x1x</td>\n",
       "      <td>KT</td>\n",
       "      <td>iOS</td>\n",
       "      <td>2022-03-01</td>\n",
       "      <td>2022-03-06</td>\n",
       "      <td>SoccerManager</td>\n",
       "      <td>play</td>\n",
       "      <td>19900</td>\n",
       "      <td>2022-03</td>\n",
       "    </tr>\n",
       "    <tr>\n",
       "      <th>15305</th>\n",
       "      <td>dignissimos737</td>\n",
       "      <td>김지혜</td>\n",
       "      <td>velit</td>\n",
       "      <td>********</td>\n",
       "      <td>gyeongsug96@yuhanhoesa.org</td>\n",
       "      <td>1982-03-23</td>\n",
       "      <td>male</td>\n",
       "      <td>01x9-8x355-x2x6x</td>\n",
       "      <td>SKT</td>\n",
       "      <td>iOS</td>\n",
       "      <td>2022-03-18</td>\n",
       "      <td>2022-03-20</td>\n",
       "      <td>SoccerManager</td>\n",
       "      <td>play</td>\n",
       "      <td>9900</td>\n",
       "      <td>2022-03</td>\n",
       "    </tr>\n",
       "    <tr>\n",
       "      <th>15307</th>\n",
       "      <td>delectus499</td>\n",
       "      <td>이미숙</td>\n",
       "      <td>numquam</td>\n",
       "      <td>********</td>\n",
       "      <td>seoyunbag@yuhanhoesa.org</td>\n",
       "      <td>1985-08-22</td>\n",
       "      <td>male</td>\n",
       "      <td>01x9-8x547-x0x3x</td>\n",
       "      <td>KT</td>\n",
       "      <td>iOS</td>\n",
       "      <td>2022-03-13</td>\n",
       "      <td>2022-03-16</td>\n",
       "      <td>SoccerManager</td>\n",
       "      <td>play</td>\n",
       "      <td>4900</td>\n",
       "      <td>2022-03</td>\n",
       "    </tr>\n",
       "  </tbody>\n",
       "</table>\n",
       "<p>9298 rows × 16 columns</p>\n",
       "</div>"
      ],
      "text/plain": [
       "             Customer_ID Name    Nickname  Password  \\\n",
       "1             debitis994  김중수   molestiae  ********   \n",
       "4            corrupti325  김영수  temporibus  ********   \n",
       "5           voluptate353  이진호         eum  ********   \n",
       "7          temporibus711  황수민        quis  ********   \n",
       "9                enim234  권순옥       harum  ********   \n",
       "...                  ...  ...         ...       ...   \n",
       "15301              ab888  구서준       minus  ********   \n",
       "15302  necessitatibus192  백수민         nam  ********   \n",
       "15303             quo334  이영숙       animi  ********   \n",
       "15305     dignissimos737  김지혜       velit  ********   \n",
       "15307        delectus499  이미숙     numquam  ********   \n",
       "\n",
       "                            Email       Birth Gender              C.P.  \\\n",
       "1                 jiweon02@ju.org  1995-11-19   male  01x9-3x228-x3x9x   \n",
       "4                 jiweon96@yu.net  2004-05-04   male  01x9-0x079-x9x2x   \n",
       "5                       di@yu.com  1999-02-01   male  01x9-8x635-x2x4x   \n",
       "7             sumingim@munyun.com  1983-07-05   male  01x9-5x894-x1x8x   \n",
       "9         eunseo52@yuhanhoesa.com  2000-12-08   male  01x9-8x650-x3x2x   \n",
       "...                           ...         ...    ...               ...   \n",
       "15301           lbag@gimbagbag.kr  1982-09-12   male  01x9-9x372-x0x4x   \n",
       "15302         eunseo86@jangbag.kr  1990-12-28   male  01x9-6x726-x9x9x   \n",
       "15303      seohyeongang@coeii.com  1986-11-15   male  01x9-9x909-x5x1x   \n",
       "15305  gyeongsug96@yuhanhoesa.org  1982-03-23   male  01x9-8x355-x2x6x   \n",
       "15307    seoyunbag@yuhanhoesa.org  1985-08-22   male  01x9-8x547-x0x3x   \n",
       "\n",
       "      MobileCompany       OS     install  Time_stamp      Game_Name Status  \\\n",
       "1                KT      iOS  2022-01-05  2022-02-17     MineGround   play   \n",
       "4               LGU  Android  2022-01-08  2022-02-01     MineGround   play   \n",
       "5               SKT      iOS  2022-01-15  2022-02-18     MineGround   play   \n",
       "7              MVNO      iOS  2022-01-17  2022-02-17     MineGround   play   \n",
       "9               SKT  Android  2022-01-13  2022-02-22     MineGround   play   \n",
       "...             ...      ...         ...         ...            ...    ...   \n",
       "15301           SKT  Android  2022-03-25  2022-03-28  SoccerManager   play   \n",
       "15302           SKT      iOS  2022-03-01  2022-03-02  SoccerManager   play   \n",
       "15303            KT      iOS  2022-03-01  2022-03-06  SoccerManager   play   \n",
       "15305           SKT      iOS  2022-03-18  2022-03-20  SoccerManager   play   \n",
       "15307            KT      iOS  2022-03-13  2022-03-16  SoccerManager   play   \n",
       "\n",
       "       Payment    Month  \n",
       "1        29900  2022-02  \n",
       "4          900  2022-02  \n",
       "5         4900  2022-02  \n",
       "7          900  2022-02  \n",
       "9        19900  2022-02  \n",
       "...        ...      ...  \n",
       "15301    19900  2022-03  \n",
       "15302     9900  2022-03  \n",
       "15303    19900  2022-03  \n",
       "15305     9900  2022-03  \n",
       "15307     4900  2022-03  \n",
       "\n",
       "[9298 rows x 16 columns]"
      ]
     },
     "execution_count": 32,
     "metadata": {},
     "output_type": "execute_result"
    }
   ],
   "source": [
    "# Hint! '=='를 사용해 봅시다.\n",
    "\n",
    "male = PaymentCustomer[PaymentCustomer[\"Gender\"] == \"male\"]\n",
    "female = PaymentCustomer[PaymentCustomer[\"Gender\"] == \"female\"]\n",
    "\n",
    "male"
   ]
  },
  {
   "cell_type": "markdown",
   "id": "e9431bb2",
   "metadata": {},
   "source": [
    "male과 female 변수를 만들고 성별에 따라 데이터를 할당\n",
    "마지막으로 월별 여성과 남성 고객의 결제 금액을 각각의 막대그래프로 그려봅시다."
   ]
  },
  {
   "cell_type": "code",
   "execution_count": 33,
   "id": "883f0b18",
   "metadata": {},
   "outputs": [
    {
     "data": {
      "image/png": "[encoded data removed]",
      "text/plain": [
       "<Figure size 432x288 with 1 Axes>"
      ]
     },
     "metadata": {
      "needs_background": "light"
     },
     "output_type": "display_data"
    }
   ],
   "source": [
    "temp_data = female['Payment'].groupby(female['Month']).sum()\n",
    "ax = plt.bar(temp_data.index, temp_data)\n",
    "plt.bar_label(ax, labels=[f'{x:,.0f}' for x in ax.datavalues], label_type='center')\n",
    "plt.title('Payments of female by Month')\n",
    "plt.show()"
   ]
  },
  {
   "cell_type": "code",
   "execution_count": 34,
   "id": "7bcae5ce",
   "metadata": {},
   "outputs": [
    {
     "data": {
      "image/png": "[encoded data removed]",
      "text/plain": [
       "<Figure size 432x288 with 1 Axes>"
      ]
     },
     "metadata": {
      "needs_background": "light"
     },
     "output_type": "display_data"
    }
   ],
   "source": [
    "temp_data = male['Payment'].groupby(male['Month']).sum()\n",
    "ax = plt.bar(temp_data.index, temp_data)\n",
    "# plt.bar_label(ax, labels=[f'{x:,.0f}' for x in ax.datavalues], label_type='center')\n",
    "plt.bar_label(ax, labels=[f'{i:,}' for i in temp_data], label_type='center')\n",
    "plt.title('Payments of male by Month')\n",
    "plt.show()"
   ]
  },
  {
   "cell_type": "code",
   "execution_count": null,
   "id": "a33f1f1f",
   "metadata": {},
   "outputs": [],
   "source": []
  }
 ],
 "metadata": {
  "kernelspec": {
   "display_name": "Python 3 (ipykernel)",
   "language": "python",
   "name": "python3"
  },
  "language_info": {
   "codemirror_mode": {
    "name": "ipython",
    "version": 3
   },
   "file_extension": ".py",
   "mimetype": "text/x-python",
   "name": "python",
   "nbconvert_exporter": "python",
   "pygments_lexer": "ipython3",
   "version": "3.9.7"
  }
 },
 "nbformat": 4,
 "nbformat_minor": 5
}
