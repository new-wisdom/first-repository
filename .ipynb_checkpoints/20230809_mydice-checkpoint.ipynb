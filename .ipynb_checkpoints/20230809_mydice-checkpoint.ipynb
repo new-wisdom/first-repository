{
 "cells": [
  {
   "cell_type": "code",
   "execution_count": 23,
   "id": "ecc6bccc",
   "metadata": {},
   "outputs": [
    {
     "name": "stdout",
     "output_type": "stream",
     "text": [
      "주사위 면의 개수를 입력하세요: 5\n",
      "1 은 = 1번 나왔습니다.\n",
      "2 은 = 3번 나왔습니다.\n",
      "3 은 = 1번 나왔습니다.\n",
      "4 은 = 0번 나왔습니다.\n",
      "5 은 = 1번 나왔습니다.\n",
      "당신의 행운의 숫자는 [2]\n"
     ]
    }
   ],
   "source": [
    "# 주사위 면의 갯수 n (인스턴스 변수)\n",
    "# throw  -> 주사위를 던져서 1~n 중 하나의 값이 나오게 \n",
    "# getval -> user가 현재 주사위 값을 읽을 수 있도록 \n",
    "\n",
    "from random import randrange\n",
    "import random\n",
    "\n",
    "class FunnyDice:\n",
    "    def __init__(self, n=6):\n",
    "        self.n = int(n)\n",
    "        self.numbers = [0]*n\n",
    "    \n",
    "    def throw(self):\n",
    "        for i in range(6):\n",
    "            self.index = randrange(0,self.n)\n",
    "            self.numbers[self.index] += 1\n",
    "\n",
    "    def getval(self):\n",
    "        return self.numbers\n",
    "\n",
    "def get_inputs():\n",
    "    n = int(input(\"주사위 면의 개수를 입력하세요: \"))\n",
    "    return n\n",
    "\n",
    "def main():\n",
    "    n = get_inputs()\n",
    "    mydice = FunnyDice(n)\n",
    "    mydice.throw()\n",
    "        \n",
    "    diceNum = mydice.getval()\n",
    "    maxNum = max(diceNum)\n",
    "    answer = [index + 1 for index, val in enumerate(diceNum) if val == maxNum]\n",
    "    for i in range(n):\n",
    "#         print(\"{} = {}번\".format(i + 1, diceNum[i]))\n",
    "        print(\"{} 은 = {}번 나왔습니다.\".format(i + 1, diceNum[i]))\n",
    "    print(\"당신의 행운의 숫자는 {}\".format(answer))\n",
    "\n",
    "if __name__ == '__main__':\n",
    "    main()\n",
    "        "
   ]
  },
  {
   "cell_type": "code",
   "execution_count": null,
   "id": "4af75558",
   "metadata": {},
   "outputs": [],
   "source": []
  }
 ],
 "metadata": {
  "kernelspec": {
   "display_name": "Python 3 (ipykernel)",
   "language": "python",
   "name": "python3"
  },
  "language_info": {
   "codemirror_mode": {
    "name": "ipython",
    "version": 3
   },
   "file_extension": ".py",
   "mimetype": "text/x-python",
   "name": "python",
   "nbconvert_exporter": "python",
   "pygments_lexer": "ipython3",
   "version": "3.9.7"
  }
 },
 "nbformat": 4,
 "nbformat_minor": 5
}
